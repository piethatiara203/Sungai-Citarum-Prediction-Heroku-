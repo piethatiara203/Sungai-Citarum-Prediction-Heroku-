{
  "cells": [
    {
      "cell_type": "code",
      "execution_count": 45,
      "metadata": {
        "id": "78lOF4--V8ye"
      },
      "outputs": [],
      "source": [
        "import numpy as np # linear algebra\n",
        "import pandas as pd # data processing, CSV file I/O (e.g. pd.read_csv)\n",
        "import matplotlib.pyplot as plt\n",
        "import seaborn as sns\n",
        "from sklearn import metrics"
      ]
    },
    {
      "cell_type": "code",
      "execution_count": 46,
      "metadata": {
        "id": "VnDXZ8EwW4tA"
      },
      "outputs": [],
      "source": [
        "df = pd.read_csv(\"datasetketinggiandancurah.csv\")"
      ]
    },
    {
      "cell_type": "code",
      "execution_count": 47,
      "metadata": {
        "colab": {
          "base_uri": "https://localhost:8080/",
          "height": 206
        },
        "id": "MpYGlWqgXCr3",
        "outputId": "517705fc-7346-4c8f-c1b2-d1166e0b2768"
      },
      "outputs": [
        {
          "data": {
            "text/html": [
              "\n",
              "  <div id=\"df-513a4e4e-cf48-43a5-b43f-1a21f92730a7\">\n",
              "    <div class=\"colab-df-container\">\n",
              "      <div>\n",
              "<style scoped>\n",
              "    .dataframe tbody tr th:only-of-type {\n",
              "        vertical-align: middle;\n",
              "    }\n",
              "\n",
              "    .dataframe tbody tr th {\n",
              "        vertical-align: top;\n",
              "    }\n",
              "\n",
              "    .dataframe thead th {\n",
              "        text-align: right;\n",
              "    }\n",
              "</style>\n",
              "<table border=\"1\" class=\"dataframe\">\n",
              "  <thead>\n",
              "    <tr style=\"text-align: right;\">\n",
              "      <th></th>\n",
              "      <th>Waktu</th>\n",
              "      <th>ketinggian</th>\n",
              "      <th>intensitas</th>\n",
              "      <th>kategori_banjir</th>\n",
              "    </tr>\n",
              "  </thead>\n",
              "  <tbody>\n",
              "    <tr>\n",
              "      <th>0</th>\n",
              "      <td>01/01/2015</td>\n",
              "      <td>5.63</td>\n",
              "      <td>33</td>\n",
              "      <td>Siaga1</td>\n",
              "    </tr>\n",
              "    <tr>\n",
              "      <th>1</th>\n",
              "      <td>02/01/2015</td>\n",
              "      <td>4.98</td>\n",
              "      <td>NaN</td>\n",
              "      <td>aman</td>\n",
              "    </tr>\n",
              "    <tr>\n",
              "      <th>2</th>\n",
              "      <td>03/01/2015</td>\n",
              "      <td>4.69</td>\n",
              "      <td>0</td>\n",
              "      <td>aman</td>\n",
              "    </tr>\n",
              "    <tr>\n",
              "      <th>3</th>\n",
              "      <td>04/01/2015</td>\n",
              "      <td>4.94</td>\n",
              "      <td>11.5</td>\n",
              "      <td>aman</td>\n",
              "    </tr>\n",
              "    <tr>\n",
              "      <th>4</th>\n",
              "      <td>05/01/2015</td>\n",
              "      <td>4.61</td>\n",
              "      <td>2</td>\n",
              "      <td>aman</td>\n",
              "    </tr>\n",
              "  </tbody>\n",
              "</table>\n",
              "</div>\n",
              "      <button class=\"colab-df-convert\" onclick=\"convertToInteractive('df-513a4e4e-cf48-43a5-b43f-1a21f92730a7')\"\n",
              "              title=\"Convert this dataframe to an interactive table.\"\n",
              "              style=\"display:none;\">\n",
              "        \n",
              "  <svg xmlns=\"http://www.w3.org/2000/svg\" height=\"24px\"viewBox=\"0 0 24 24\"\n",
              "       width=\"24px\">\n",
              "    <path d=\"M0 0h24v24H0V0z\" fill=\"none\"/>\n",
              "    <path d=\"M18.56 5.44l.94 2.06.94-2.06 2.06-.94-2.06-.94-.94-2.06-.94 2.06-2.06.94zm-11 1L8.5 8.5l.94-2.06 2.06-.94-2.06-.94L8.5 2.5l-.94 2.06-2.06.94zm10 10l.94 2.06.94-2.06 2.06-.94-2.06-.94-.94-2.06-.94 2.06-2.06.94z\"/><path d=\"M17.41 7.96l-1.37-1.37c-.4-.4-.92-.59-1.43-.59-.52 0-1.04.2-1.43.59L10.3 9.45l-7.72 7.72c-.78.78-.78 2.05 0 2.83L4 21.41c.39.39.9.59 1.41.59.51 0 1.02-.2 1.41-.59l7.78-7.78 2.81-2.81c.8-.78.8-2.07 0-2.86zM5.41 20L4 18.59l7.72-7.72 1.47 1.35L5.41 20z\"/>\n",
              "  </svg>\n",
              "      </button>\n",
              "      \n",
              "  <style>\n",
              "    .colab-df-container {\n",
              "      display:flex;\n",
              "      flex-wrap:wrap;\n",
              "      gap: 12px;\n",
              "    }\n",
              "\n",
              "    .colab-df-convert {\n",
              "      background-color: #E8F0FE;\n",
              "      border: none;\n",
              "      border-radius: 50%;\n",
              "      cursor: pointer;\n",
              "      display: none;\n",
              "      fill: #1967D2;\n",
              "      height: 32px;\n",
              "      padding: 0 0 0 0;\n",
              "      width: 32px;\n",
              "    }\n",
              "\n",
              "    .colab-df-convert:hover {\n",
              "      background-color: #E2EBFA;\n",
              "      box-shadow: 0px 1px 2px rgba(60, 64, 67, 0.3), 0px 1px 3px 1px rgba(60, 64, 67, 0.15);\n",
              "      fill: #174EA6;\n",
              "    }\n",
              "\n",
              "    [theme=dark] .colab-df-convert {\n",
              "      background-color: #3B4455;\n",
              "      fill: #D2E3FC;\n",
              "    }\n",
              "\n",
              "    [theme=dark] .colab-df-convert:hover {\n",
              "      background-color: #434B5C;\n",
              "      box-shadow: 0px 1px 3px 1px rgba(0, 0, 0, 0.15);\n",
              "      filter: drop-shadow(0px 1px 2px rgba(0, 0, 0, 0.3));\n",
              "      fill: #FFFFFF;\n",
              "    }\n",
              "  </style>\n",
              "\n",
              "      <script>\n",
              "        const buttonEl =\n",
              "          document.querySelector('#df-513a4e4e-cf48-43a5-b43f-1a21f92730a7 button.colab-df-convert');\n",
              "        buttonEl.style.display =\n",
              "          google.colab.kernel.accessAllowed ? 'block' : 'none';\n",
              "\n",
              "        async function convertToInteractive(key) {\n",
              "          const element = document.querySelector('#df-513a4e4e-cf48-43a5-b43f-1a21f92730a7');\n",
              "          const dataTable =\n",
              "            await google.colab.kernel.invokeFunction('convertToInteractive',\n",
              "                                                     [key], {});\n",
              "          if (!dataTable) return;\n",
              "\n",
              "          const docLinkHtml = 'Like what you see? Visit the ' +\n",
              "            '<a target=\"_blank\" href=https://colab.research.google.com/notebooks/data_table.ipynb>data table notebook</a>'\n",
              "            + ' to learn more about interactive tables.';\n",
              "          element.innerHTML = '';\n",
              "          dataTable['output_type'] = 'display_data';\n",
              "          await google.colab.output.renderOutput(dataTable, element);\n",
              "          const docLink = document.createElement('div');\n",
              "          docLink.innerHTML = docLinkHtml;\n",
              "          element.appendChild(docLink);\n",
              "        }\n",
              "      </script>\n",
              "    </div>\n",
              "  </div>\n",
              "  "
            ],
            "text/plain": [
              "        Waktu  ketinggian intensitas kategori_banjir\n",
              "0  01/01/2015        5.63         33          Siaga1\n",
              "1  02/01/2015        4.98        NaN            aman\n",
              "2  03/01/2015        4.69          0            aman\n",
              "3  04/01/2015        4.94       11.5            aman\n",
              "4  05/01/2015        4.61          2            aman"
            ]
          },
          "execution_count": 47,
          "metadata": {},
          "output_type": "execute_result"
        }
      ],
      "source": [
        "df.head()"
      ]
    },
    {
      "cell_type": "code",
      "execution_count": 48,
      "metadata": {
        "colab": {
          "base_uri": "https://localhost:8080/"
        },
        "id": "Tia5Xe9jYEph",
        "outputId": "e35821e4-0d50-4da2-e25e-ce85b38d05bd"
      },
      "outputs": [
        {
          "name": "stdout",
          "output_type": "stream",
          "text": [
            "<class 'pandas.core.frame.DataFrame'>\n",
            "RangeIndex: 1461 entries, 0 to 1460\n",
            "Data columns (total 4 columns):\n",
            " #   Column           Non-Null Count  Dtype  \n",
            "---  ------           --------------  -----  \n",
            " 0   Waktu            1461 non-null   object \n",
            " 1   ketinggian       1461 non-null   float64\n",
            " 2   intensitas       704 non-null    object \n",
            " 3   kategori_banjir  1461 non-null   object \n",
            "dtypes: float64(1), object(3)\n",
            "memory usage: 45.8+ KB\n"
          ]
        }
      ],
      "source": [
        "df.info()"
      ]
    },
    {
      "cell_type": "code",
      "execution_count": 49,
      "metadata": {
        "colab": {
          "base_uri": "https://localhost:8080/"
        },
        "id": "Jexfi4MRjwie",
        "outputId": "cb8877f6-b784-482d-e1fb-4c0cb25e274e"
      },
      "outputs": [
        {
          "data": {
            "text/plain": [
              "(1461, 4)"
            ]
          },
          "execution_count": 49,
          "metadata": {},
          "output_type": "execute_result"
        }
      ],
      "source": [
        "df.shape"
      ]
    },
    {
      "cell_type": "markdown",
      "metadata": {
        "id": "F4IEx4_OaKbi"
      },
      "source": [
        "### **Preprocessing Data**"
      ]
    },
    {
      "cell_type": "code",
      "execution_count": 50,
      "metadata": {
        "id": "RGWCDg8yZR6u"
      },
      "outputs": [],
      "source": [
        "#df['Kategori Banjir'].unique()"
      ]
    },
    {
      "cell_type": "code",
      "execution_count": 51,
      "metadata": {
        "colab": {
          "base_uri": "https://localhost:8080/"
        },
        "id": "t9qTl-6abNhL",
        "outputId": "97c8d58a-ed19-42fa-a62e-36a7b5a5dd54"
      },
      "outputs": [
        {
          "name": "stdout",
          "output_type": "stream",
          "text": [
            "<class 'pandas.core.frame.DataFrame'>\n",
            "RangeIndex: 1461 entries, 0 to 1460\n",
            "Data columns (total 4 columns):\n",
            " #   Column           Non-Null Count  Dtype  \n",
            "---  ------           --------------  -----  \n",
            " 0   Waktu            1461 non-null   object \n",
            " 1   ketinggian       1461 non-null   float64\n",
            " 2   intensitas       703 non-null    float64\n",
            " 3   kategori_banjir  1461 non-null   object \n",
            "dtypes: float64(2), object(2)\n",
            "memory usage: 45.8+ KB\n"
          ]
        }
      ],
      "source": [
        "#change object to float64\n",
        "df['intensitas'] = pd.to_numeric(df['intensitas'],errors = 'coerce')\n",
        "df.info()"
      ]
    },
    {
      "cell_type": "code",
      "execution_count": 52,
      "metadata": {
        "id": "NGcYxtvANgob"
      },
      "outputs": [],
      "source": [
        "def kategori(height_m, intensitas_hujan_mm):\n",
        "  if (height_m >= 0 and height_m <= 5) and (intensitas_hujan_mm >= 0 and intensitas_hujan_mm <= 50):\n",
        "    return 'aman'\n",
        "  elif (height_m > 5 and height_m <= 6) and (intensitas_hujan_mm >= 0 and intensitas_hujan_mm <= 50):\n",
        "    return 'Siaga1'\n",
        "  elif (height_m > 5 and height_m <= 6) and (intensitas_hujan_mm > 50 and intensitas_hujan_mm <= 100):\n",
        "    return 'Siaga1'\n",
        "  elif (height_m > 6) and (intensitas_hujan_mm > 50 and intensitas_hujan_mm <= 100):\n",
        "    return 'Siaga2'\n",
        "  elif (height_m > 6) and (intensitas_hujan_mm > 100):\n",
        "    return 'Siaga2'\n",
        "  else: return 'aman'"
      ]
    },
    {
      "cell_type": "code",
      "execution_count": 53,
      "metadata": {
        "id": "Nd2SX1CyPWkK"
      },
      "outputs": [],
      "source": [
        "df['kategori']= df.apply(lambda x: kategori(x['ketinggian'], x['intensitas']), axis=1)"
      ]
    },
    {
      "cell_type": "code",
      "execution_count": 54,
      "metadata": {
        "colab": {
          "base_uri": "https://localhost:8080/",
          "height": 424
        },
        "id": "i8cL7dFlSeV6",
        "outputId": "2fff60f6-32aa-4283-f367-cc378c3f47d7"
      },
      "outputs": [
        {
          "data": {
            "text/html": [
              "\n",
              "  <div id=\"df-380c8d1b-b641-4c9a-8087-8e0b9b83339b\">\n",
              "    <div class=\"colab-df-container\">\n",
              "      <div>\n",
              "<style scoped>\n",
              "    .dataframe tbody tr th:only-of-type {\n",
              "        vertical-align: middle;\n",
              "    }\n",
              "\n",
              "    .dataframe tbody tr th {\n",
              "        vertical-align: top;\n",
              "    }\n",
              "\n",
              "    .dataframe thead th {\n",
              "        text-align: right;\n",
              "    }\n",
              "</style>\n",
              "<table border=\"1\" class=\"dataframe\">\n",
              "  <thead>\n",
              "    <tr style=\"text-align: right;\">\n",
              "      <th></th>\n",
              "      <th>Waktu</th>\n",
              "      <th>ketinggian</th>\n",
              "      <th>intensitas</th>\n",
              "      <th>kategori_banjir</th>\n",
              "      <th>kategori</th>\n",
              "    </tr>\n",
              "  </thead>\n",
              "  <tbody>\n",
              "    <tr>\n",
              "      <th>0</th>\n",
              "      <td>01/01/2015</td>\n",
              "      <td>5.63</td>\n",
              "      <td>33.0</td>\n",
              "      <td>Siaga1</td>\n",
              "      <td>Siaga1</td>\n",
              "    </tr>\n",
              "    <tr>\n",
              "      <th>1</th>\n",
              "      <td>02/01/2015</td>\n",
              "      <td>4.98</td>\n",
              "      <td>NaN</td>\n",
              "      <td>aman</td>\n",
              "      <td>aman</td>\n",
              "    </tr>\n",
              "    <tr>\n",
              "      <th>2</th>\n",
              "      <td>03/01/2015</td>\n",
              "      <td>4.69</td>\n",
              "      <td>0.0</td>\n",
              "      <td>aman</td>\n",
              "      <td>aman</td>\n",
              "    </tr>\n",
              "    <tr>\n",
              "      <th>3</th>\n",
              "      <td>04/01/2015</td>\n",
              "      <td>4.94</td>\n",
              "      <td>11.5</td>\n",
              "      <td>aman</td>\n",
              "      <td>aman</td>\n",
              "    </tr>\n",
              "    <tr>\n",
              "      <th>4</th>\n",
              "      <td>05/01/2015</td>\n",
              "      <td>4.61</td>\n",
              "      <td>2.0</td>\n",
              "      <td>aman</td>\n",
              "      <td>aman</td>\n",
              "    </tr>\n",
              "    <tr>\n",
              "      <th>...</th>\n",
              "      <td>...</td>\n",
              "      <td>...</td>\n",
              "      <td>...</td>\n",
              "      <td>...</td>\n",
              "      <td>...</td>\n",
              "    </tr>\n",
              "    <tr>\n",
              "      <th>1456</th>\n",
              "      <td>27/12/2018</td>\n",
              "      <td>4.57</td>\n",
              "      <td>16.0</td>\n",
              "      <td>aman</td>\n",
              "      <td>aman</td>\n",
              "    </tr>\n",
              "    <tr>\n",
              "      <th>1457</th>\n",
              "      <td>28/12/2018</td>\n",
              "      <td>4.73</td>\n",
              "      <td>3.5</td>\n",
              "      <td>aman</td>\n",
              "      <td>aman</td>\n",
              "    </tr>\n",
              "    <tr>\n",
              "      <th>1458</th>\n",
              "      <td>29/12/2018</td>\n",
              "      <td>4.84</td>\n",
              "      <td>NaN</td>\n",
              "      <td>aman</td>\n",
              "      <td>aman</td>\n",
              "    </tr>\n",
              "    <tr>\n",
              "      <th>1459</th>\n",
              "      <td>30/12/2018</td>\n",
              "      <td>4.41</td>\n",
              "      <td>NaN</td>\n",
              "      <td>aman</td>\n",
              "      <td>aman</td>\n",
              "    </tr>\n",
              "    <tr>\n",
              "      <th>1460</th>\n",
              "      <td>31/12/2018</td>\n",
              "      <td>4.14</td>\n",
              "      <td>NaN</td>\n",
              "      <td>aman</td>\n",
              "      <td>aman</td>\n",
              "    </tr>\n",
              "  </tbody>\n",
              "</table>\n",
              "<p>1461 rows × 5 columns</p>\n",
              "</div>\n",
              "      <button class=\"colab-df-convert\" onclick=\"convertToInteractive('df-380c8d1b-b641-4c9a-8087-8e0b9b83339b')\"\n",
              "              title=\"Convert this dataframe to an interactive table.\"\n",
              "              style=\"display:none;\">\n",
              "        \n",
              "  <svg xmlns=\"http://www.w3.org/2000/svg\" height=\"24px\"viewBox=\"0 0 24 24\"\n",
              "       width=\"24px\">\n",
              "    <path d=\"M0 0h24v24H0V0z\" fill=\"none\"/>\n",
              "    <path d=\"M18.56 5.44l.94 2.06.94-2.06 2.06-.94-2.06-.94-.94-2.06-.94 2.06-2.06.94zm-11 1L8.5 8.5l.94-2.06 2.06-.94-2.06-.94L8.5 2.5l-.94 2.06-2.06.94zm10 10l.94 2.06.94-2.06 2.06-.94-2.06-.94-.94-2.06-.94 2.06-2.06.94z\"/><path d=\"M17.41 7.96l-1.37-1.37c-.4-.4-.92-.59-1.43-.59-.52 0-1.04.2-1.43.59L10.3 9.45l-7.72 7.72c-.78.78-.78 2.05 0 2.83L4 21.41c.39.39.9.59 1.41.59.51 0 1.02-.2 1.41-.59l7.78-7.78 2.81-2.81c.8-.78.8-2.07 0-2.86zM5.41 20L4 18.59l7.72-7.72 1.47 1.35L5.41 20z\"/>\n",
              "  </svg>\n",
              "      </button>\n",
              "      \n",
              "  <style>\n",
              "    .colab-df-container {\n",
              "      display:flex;\n",
              "      flex-wrap:wrap;\n",
              "      gap: 12px;\n",
              "    }\n",
              "\n",
              "    .colab-df-convert {\n",
              "      background-color: #E8F0FE;\n",
              "      border: none;\n",
              "      border-radius: 50%;\n",
              "      cursor: pointer;\n",
              "      display: none;\n",
              "      fill: #1967D2;\n",
              "      height: 32px;\n",
              "      padding: 0 0 0 0;\n",
              "      width: 32px;\n",
              "    }\n",
              "\n",
              "    .colab-df-convert:hover {\n",
              "      background-color: #E2EBFA;\n",
              "      box-shadow: 0px 1px 2px rgba(60, 64, 67, 0.3), 0px 1px 3px 1px rgba(60, 64, 67, 0.15);\n",
              "      fill: #174EA6;\n",
              "    }\n",
              "\n",
              "    [theme=dark] .colab-df-convert {\n",
              "      background-color: #3B4455;\n",
              "      fill: #D2E3FC;\n",
              "    }\n",
              "\n",
              "    [theme=dark] .colab-df-convert:hover {\n",
              "      background-color: #434B5C;\n",
              "      box-shadow: 0px 1px 3px 1px rgba(0, 0, 0, 0.15);\n",
              "      filter: drop-shadow(0px 1px 2px rgba(0, 0, 0, 0.3));\n",
              "      fill: #FFFFFF;\n",
              "    }\n",
              "  </style>\n",
              "\n",
              "      <script>\n",
              "        const buttonEl =\n",
              "          document.querySelector('#df-380c8d1b-b641-4c9a-8087-8e0b9b83339b button.colab-df-convert');\n",
              "        buttonEl.style.display =\n",
              "          google.colab.kernel.accessAllowed ? 'block' : 'none';\n",
              "\n",
              "        async function convertToInteractive(key) {\n",
              "          const element = document.querySelector('#df-380c8d1b-b641-4c9a-8087-8e0b9b83339b');\n",
              "          const dataTable =\n",
              "            await google.colab.kernel.invokeFunction('convertToInteractive',\n",
              "                                                     [key], {});\n",
              "          if (!dataTable) return;\n",
              "\n",
              "          const docLinkHtml = 'Like what you see? Visit the ' +\n",
              "            '<a target=\"_blank\" href=https://colab.research.google.com/notebooks/data_table.ipynb>data table notebook</a>'\n",
              "            + ' to learn more about interactive tables.';\n",
              "          element.innerHTML = '';\n",
              "          dataTable['output_type'] = 'display_data';\n",
              "          await google.colab.output.renderOutput(dataTable, element);\n",
              "          const docLink = document.createElement('div');\n",
              "          docLink.innerHTML = docLinkHtml;\n",
              "          element.appendChild(docLink);\n",
              "        }\n",
              "      </script>\n",
              "    </div>\n",
              "  </div>\n",
              "  "
            ],
            "text/plain": [
              "           Waktu  ketinggian  intensitas kategori_banjir kategori\n",
              "0     01/01/2015        5.63        33.0          Siaga1   Siaga1\n",
              "1     02/01/2015        4.98         NaN            aman     aman\n",
              "2     03/01/2015        4.69         0.0            aman     aman\n",
              "3     04/01/2015        4.94        11.5            aman     aman\n",
              "4     05/01/2015        4.61         2.0            aman     aman\n",
              "...          ...         ...         ...             ...      ...\n",
              "1456  27/12/2018        4.57        16.0            aman     aman\n",
              "1457  28/12/2018        4.73         3.5            aman     aman\n",
              "1458  29/12/2018        4.84         NaN            aman     aman\n",
              "1459  30/12/2018        4.41         NaN            aman     aman\n",
              "1460  31/12/2018        4.14         NaN            aman     aman\n",
              "\n",
              "[1461 rows x 5 columns]"
            ]
          },
          "execution_count": 54,
          "metadata": {},
          "output_type": "execute_result"
        }
      ],
      "source": [
        "df"
      ]
    },
    {
      "cell_type": "code",
      "execution_count": 55,
      "metadata": {
        "colab": {
          "base_uri": "https://localhost:8080/"
        },
        "id": "yM9y17yfcJ4p",
        "outputId": "e611ed92-4e62-452e-c3e5-57a2bc2819db"
      },
      "outputs": [
        {
          "name": "stdout",
          "output_type": "stream",
          "text": [
            "<class 'pandas.core.frame.DataFrame'>\n",
            "RangeIndex: 1461 entries, 0 to 1460\n",
            "Data columns (total 5 columns):\n",
            " #   Column           Non-Null Count  Dtype  \n",
            "---  ------           --------------  -----  \n",
            " 0   Waktu            1461 non-null   object \n",
            " 1   ketinggian       1461 non-null   float64\n",
            " 2   intensitas       703 non-null    float64\n",
            " 3   kategori_banjir  1461 non-null   object \n",
            " 4   kategori         1461 non-null   object \n",
            "dtypes: float64(2), object(3)\n",
            "memory usage: 57.2+ KB\n"
          ]
        }
      ],
      "source": [
        "df.info()"
      ]
    },
    {
      "cell_type": "code",
      "execution_count": 56,
      "metadata": {
        "colab": {
          "base_uri": "https://localhost:8080/"
        },
        "id": "KNROvUPQjfhC",
        "outputId": "be15e549-7c6f-4ccc-e9af-b20a6c10eb48"
      },
      "outputs": [
        {
          "data": {
            "text/plain": [
              "array(['Siaga1', 'aman', 'Siaga2'], dtype=object)"
            ]
          },
          "execution_count": 56,
          "metadata": {},
          "output_type": "execute_result"
        }
      ],
      "source": [
        "df['kategori'].unique()"
      ]
    },
    {
      "cell_type": "code",
      "execution_count": 57,
      "metadata": {
        "colab": {
          "base_uri": "https://localhost:8080/"
        },
        "id": "4Ukh76BwkiAN",
        "outputId": "c7d2a92b-9d2a-4ece-f823-89ee4ad0fd26"
      },
      "outputs": [
        {
          "data": {
            "text/plain": [
              "Waktu                0\n",
              "ketinggian           0\n",
              "intensitas         758\n",
              "kategori_banjir      0\n",
              "kategori             0\n",
              "dtype: int64"
            ]
          },
          "execution_count": 57,
          "metadata": {},
          "output_type": "execute_result"
        }
      ],
      "source": [
        "df.isnull().sum()"
      ]
    },
    {
      "cell_type": "code",
      "execution_count": 58,
      "metadata": {
        "colab": {
          "base_uri": "https://localhost:8080/",
          "height": 206
        },
        "id": "8GSTyH2C2OC6",
        "outputId": "e1c5b718-a884-4a6a-d15a-40fc29d77e0c"
      },
      "outputs": [
        {
          "data": {
            "text/html": [
              "\n",
              "  <div id=\"df-09d23f03-fcd1-45dd-8567-f8a642e3daf5\">\n",
              "    <div class=\"colab-df-container\">\n",
              "      <div>\n",
              "<style scoped>\n",
              "    .dataframe tbody tr th:only-of-type {\n",
              "        vertical-align: middle;\n",
              "    }\n",
              "\n",
              "    .dataframe tbody tr th {\n",
              "        vertical-align: top;\n",
              "    }\n",
              "\n",
              "    .dataframe thead th {\n",
              "        text-align: right;\n",
              "    }\n",
              "</style>\n",
              "<table border=\"1\" class=\"dataframe\">\n",
              "  <thead>\n",
              "    <tr style=\"text-align: right;\">\n",
              "      <th></th>\n",
              "      <th>Waktu</th>\n",
              "      <th>ketinggian</th>\n",
              "      <th>intensitas</th>\n",
              "      <th>kategori_banjir</th>\n",
              "      <th>kategori</th>\n",
              "    </tr>\n",
              "  </thead>\n",
              "  <tbody>\n",
              "    <tr>\n",
              "      <th>0</th>\n",
              "      <td>01/01/2015</td>\n",
              "      <td>5.63</td>\n",
              "      <td>33.0</td>\n",
              "      <td>Siaga1</td>\n",
              "      <td>Siaga1</td>\n",
              "    </tr>\n",
              "    <tr>\n",
              "      <th>1</th>\n",
              "      <td>02/01/2015</td>\n",
              "      <td>4.98</td>\n",
              "      <td>0.0</td>\n",
              "      <td>aman</td>\n",
              "      <td>aman</td>\n",
              "    </tr>\n",
              "    <tr>\n",
              "      <th>2</th>\n",
              "      <td>03/01/2015</td>\n",
              "      <td>4.69</td>\n",
              "      <td>0.0</td>\n",
              "      <td>aman</td>\n",
              "      <td>aman</td>\n",
              "    </tr>\n",
              "    <tr>\n",
              "      <th>3</th>\n",
              "      <td>04/01/2015</td>\n",
              "      <td>4.94</td>\n",
              "      <td>11.5</td>\n",
              "      <td>aman</td>\n",
              "      <td>aman</td>\n",
              "    </tr>\n",
              "    <tr>\n",
              "      <th>4</th>\n",
              "      <td>05/01/2015</td>\n",
              "      <td>4.61</td>\n",
              "      <td>2.0</td>\n",
              "      <td>aman</td>\n",
              "      <td>aman</td>\n",
              "    </tr>\n",
              "  </tbody>\n",
              "</table>\n",
              "</div>\n",
              "      <button class=\"colab-df-convert\" onclick=\"convertToInteractive('df-09d23f03-fcd1-45dd-8567-f8a642e3daf5')\"\n",
              "              title=\"Convert this dataframe to an interactive table.\"\n",
              "              style=\"display:none;\">\n",
              "        \n",
              "  <svg xmlns=\"http://www.w3.org/2000/svg\" height=\"24px\"viewBox=\"0 0 24 24\"\n",
              "       width=\"24px\">\n",
              "    <path d=\"M0 0h24v24H0V0z\" fill=\"none\"/>\n",
              "    <path d=\"M18.56 5.44l.94 2.06.94-2.06 2.06-.94-2.06-.94-.94-2.06-.94 2.06-2.06.94zm-11 1L8.5 8.5l.94-2.06 2.06-.94-2.06-.94L8.5 2.5l-.94 2.06-2.06.94zm10 10l.94 2.06.94-2.06 2.06-.94-2.06-.94-.94-2.06-.94 2.06-2.06.94z\"/><path d=\"M17.41 7.96l-1.37-1.37c-.4-.4-.92-.59-1.43-.59-.52 0-1.04.2-1.43.59L10.3 9.45l-7.72 7.72c-.78.78-.78 2.05 0 2.83L4 21.41c.39.39.9.59 1.41.59.51 0 1.02-.2 1.41-.59l7.78-7.78 2.81-2.81c.8-.78.8-2.07 0-2.86zM5.41 20L4 18.59l7.72-7.72 1.47 1.35L5.41 20z\"/>\n",
              "  </svg>\n",
              "      </button>\n",
              "      \n",
              "  <style>\n",
              "    .colab-df-container {\n",
              "      display:flex;\n",
              "      flex-wrap:wrap;\n",
              "      gap: 12px;\n",
              "    }\n",
              "\n",
              "    .colab-df-convert {\n",
              "      background-color: #E8F0FE;\n",
              "      border: none;\n",
              "      border-radius: 50%;\n",
              "      cursor: pointer;\n",
              "      display: none;\n",
              "      fill: #1967D2;\n",
              "      height: 32px;\n",
              "      padding: 0 0 0 0;\n",
              "      width: 32px;\n",
              "    }\n",
              "\n",
              "    .colab-df-convert:hover {\n",
              "      background-color: #E2EBFA;\n",
              "      box-shadow: 0px 1px 2px rgba(60, 64, 67, 0.3), 0px 1px 3px 1px rgba(60, 64, 67, 0.15);\n",
              "      fill: #174EA6;\n",
              "    }\n",
              "\n",
              "    [theme=dark] .colab-df-convert {\n",
              "      background-color: #3B4455;\n",
              "      fill: #D2E3FC;\n",
              "    }\n",
              "\n",
              "    [theme=dark] .colab-df-convert:hover {\n",
              "      background-color: #434B5C;\n",
              "      box-shadow: 0px 1px 3px 1px rgba(0, 0, 0, 0.15);\n",
              "      filter: drop-shadow(0px 1px 2px rgba(0, 0, 0, 0.3));\n",
              "      fill: #FFFFFF;\n",
              "    }\n",
              "  </style>\n",
              "\n",
              "      <script>\n",
              "        const buttonEl =\n",
              "          document.querySelector('#df-09d23f03-fcd1-45dd-8567-f8a642e3daf5 button.colab-df-convert');\n",
              "        buttonEl.style.display =\n",
              "          google.colab.kernel.accessAllowed ? 'block' : 'none';\n",
              "\n",
              "        async function convertToInteractive(key) {\n",
              "          const element = document.querySelector('#df-09d23f03-fcd1-45dd-8567-f8a642e3daf5');\n",
              "          const dataTable =\n",
              "            await google.colab.kernel.invokeFunction('convertToInteractive',\n",
              "                                                     [key], {});\n",
              "          if (!dataTable) return;\n",
              "\n",
              "          const docLinkHtml = 'Like what you see? Visit the ' +\n",
              "            '<a target=\"_blank\" href=https://colab.research.google.com/notebooks/data_table.ipynb>data table notebook</a>'\n",
              "            + ' to learn more about interactive tables.';\n",
              "          element.innerHTML = '';\n",
              "          dataTable['output_type'] = 'display_data';\n",
              "          await google.colab.output.renderOutput(dataTable, element);\n",
              "          const docLink = document.createElement('div');\n",
              "          docLink.innerHTML = docLinkHtml;\n",
              "          element.appendChild(docLink);\n",
              "        }\n",
              "      </script>\n",
              "    </div>\n",
              "  </div>\n",
              "  "
            ],
            "text/plain": [
              "        Waktu  ketinggian  intensitas kategori_banjir kategori\n",
              "0  01/01/2015        5.63        33.0          Siaga1   Siaga1\n",
              "1  02/01/2015        4.98         0.0            aman     aman\n",
              "2  03/01/2015        4.69         0.0            aman     aman\n",
              "3  04/01/2015        4.94        11.5            aman     aman\n",
              "4  05/01/2015        4.61         2.0            aman     aman"
            ]
          },
          "execution_count": 58,
          "metadata": {},
          "output_type": "execute_result"
        }
      ],
      "source": [
        "df.fillna((0), inplace = True)\n",
        "df.head()"
      ]
    },
    {
      "cell_type": "code",
      "execution_count": 59,
      "metadata": {
        "colab": {
          "base_uri": "https://localhost:8080/"
        },
        "id": "Rn6faAc69VGk",
        "outputId": "d8dd7bf6-64e6-4c75-c795-2879e53f0497"
      },
      "outputs": [
        {
          "data": {
            "text/plain": [
              "Waktu              0\n",
              "ketinggian         0\n",
              "intensitas         0\n",
              "kategori_banjir    0\n",
              "kategori           0\n",
              "dtype: int64"
            ]
          },
          "execution_count": 59,
          "metadata": {},
          "output_type": "execute_result"
        }
      ],
      "source": [
        "df.isnull().sum()"
      ]
    },
    {
      "cell_type": "code",
      "execution_count": 60,
      "metadata": {
        "colab": {
          "base_uri": "https://localhost:8080/",
          "height": 206
        },
        "id": "iy_V-Kud6cB3",
        "outputId": "941c497c-7299-4cef-f9c9-32907901402a"
      },
      "outputs": [
        {
          "data": {
            "text/html": [
              "\n",
              "  <div id=\"df-131083c5-aded-4262-860f-63e680fce1f2\">\n",
              "    <div class=\"colab-df-container\">\n",
              "      <div>\n",
              "<style scoped>\n",
              "    .dataframe tbody tr th:only-of-type {\n",
              "        vertical-align: middle;\n",
              "    }\n",
              "\n",
              "    .dataframe tbody tr th {\n",
              "        vertical-align: top;\n",
              "    }\n",
              "\n",
              "    .dataframe thead th {\n",
              "        text-align: right;\n",
              "    }\n",
              "</style>\n",
              "<table border=\"1\" class=\"dataframe\">\n",
              "  <thead>\n",
              "    <tr style=\"text-align: right;\">\n",
              "      <th></th>\n",
              "      <th>Waktu</th>\n",
              "      <th>ketinggian</th>\n",
              "      <th>intensitas</th>\n",
              "      <th>kategori_banjir</th>\n",
              "    </tr>\n",
              "  </thead>\n",
              "  <tbody>\n",
              "    <tr>\n",
              "      <th>0</th>\n",
              "      <td>01/01/2015</td>\n",
              "      <td>5.63</td>\n",
              "      <td>33.0</td>\n",
              "      <td>Siaga1</td>\n",
              "    </tr>\n",
              "    <tr>\n",
              "      <th>1</th>\n",
              "      <td>02/01/2015</td>\n",
              "      <td>4.98</td>\n",
              "      <td>0.0</td>\n",
              "      <td>aman</td>\n",
              "    </tr>\n",
              "    <tr>\n",
              "      <th>2</th>\n",
              "      <td>03/01/2015</td>\n",
              "      <td>4.69</td>\n",
              "      <td>0.0</td>\n",
              "      <td>aman</td>\n",
              "    </tr>\n",
              "    <tr>\n",
              "      <th>3</th>\n",
              "      <td>04/01/2015</td>\n",
              "      <td>4.94</td>\n",
              "      <td>11.5</td>\n",
              "      <td>aman</td>\n",
              "    </tr>\n",
              "    <tr>\n",
              "      <th>4</th>\n",
              "      <td>05/01/2015</td>\n",
              "      <td>4.61</td>\n",
              "      <td>2.0</td>\n",
              "      <td>aman</td>\n",
              "    </tr>\n",
              "  </tbody>\n",
              "</table>\n",
              "</div>\n",
              "      <button class=\"colab-df-convert\" onclick=\"convertToInteractive('df-131083c5-aded-4262-860f-63e680fce1f2')\"\n",
              "              title=\"Convert this dataframe to an interactive table.\"\n",
              "              style=\"display:none;\">\n",
              "        \n",
              "  <svg xmlns=\"http://www.w3.org/2000/svg\" height=\"24px\"viewBox=\"0 0 24 24\"\n",
              "       width=\"24px\">\n",
              "    <path d=\"M0 0h24v24H0V0z\" fill=\"none\"/>\n",
              "    <path d=\"M18.56 5.44l.94 2.06.94-2.06 2.06-.94-2.06-.94-.94-2.06-.94 2.06-2.06.94zm-11 1L8.5 8.5l.94-2.06 2.06-.94-2.06-.94L8.5 2.5l-.94 2.06-2.06.94zm10 10l.94 2.06.94-2.06 2.06-.94-2.06-.94-.94-2.06-.94 2.06-2.06.94z\"/><path d=\"M17.41 7.96l-1.37-1.37c-.4-.4-.92-.59-1.43-.59-.52 0-1.04.2-1.43.59L10.3 9.45l-7.72 7.72c-.78.78-.78 2.05 0 2.83L4 21.41c.39.39.9.59 1.41.59.51 0 1.02-.2 1.41-.59l7.78-7.78 2.81-2.81c.8-.78.8-2.07 0-2.86zM5.41 20L4 18.59l7.72-7.72 1.47 1.35L5.41 20z\"/>\n",
              "  </svg>\n",
              "      </button>\n",
              "      \n",
              "  <style>\n",
              "    .colab-df-container {\n",
              "      display:flex;\n",
              "      flex-wrap:wrap;\n",
              "      gap: 12px;\n",
              "    }\n",
              "\n",
              "    .colab-df-convert {\n",
              "      background-color: #E8F0FE;\n",
              "      border: none;\n",
              "      border-radius: 50%;\n",
              "      cursor: pointer;\n",
              "      display: none;\n",
              "      fill: #1967D2;\n",
              "      height: 32px;\n",
              "      padding: 0 0 0 0;\n",
              "      width: 32px;\n",
              "    }\n",
              "\n",
              "    .colab-df-convert:hover {\n",
              "      background-color: #E2EBFA;\n",
              "      box-shadow: 0px 1px 2px rgba(60, 64, 67, 0.3), 0px 1px 3px 1px rgba(60, 64, 67, 0.15);\n",
              "      fill: #174EA6;\n",
              "    }\n",
              "\n",
              "    [theme=dark] .colab-df-convert {\n",
              "      background-color: #3B4455;\n",
              "      fill: #D2E3FC;\n",
              "    }\n",
              "\n",
              "    [theme=dark] .colab-df-convert:hover {\n",
              "      background-color: #434B5C;\n",
              "      box-shadow: 0px 1px 3px 1px rgba(0, 0, 0, 0.15);\n",
              "      filter: drop-shadow(0px 1px 2px rgba(0, 0, 0, 0.3));\n",
              "      fill: #FFFFFF;\n",
              "    }\n",
              "  </style>\n",
              "\n",
              "      <script>\n",
              "        const buttonEl =\n",
              "          document.querySelector('#df-131083c5-aded-4262-860f-63e680fce1f2 button.colab-df-convert');\n",
              "        buttonEl.style.display =\n",
              "          google.colab.kernel.accessAllowed ? 'block' : 'none';\n",
              "\n",
              "        async function convertToInteractive(key) {\n",
              "          const element = document.querySelector('#df-131083c5-aded-4262-860f-63e680fce1f2');\n",
              "          const dataTable =\n",
              "            await google.colab.kernel.invokeFunction('convertToInteractive',\n",
              "                                                     [key], {});\n",
              "          if (!dataTable) return;\n",
              "\n",
              "          const docLinkHtml = 'Like what you see? Visit the ' +\n",
              "            '<a target=\"_blank\" href=https://colab.research.google.com/notebooks/data_table.ipynb>data table notebook</a>'\n",
              "            + ' to learn more about interactive tables.';\n",
              "          element.innerHTML = '';\n",
              "          dataTable['output_type'] = 'display_data';\n",
              "          await google.colab.output.renderOutput(dataTable, element);\n",
              "          const docLink = document.createElement('div');\n",
              "          docLink.innerHTML = docLinkHtml;\n",
              "          element.appendChild(docLink);\n",
              "        }\n",
              "      </script>\n",
              "    </div>\n",
              "  </div>\n",
              "  "
            ],
            "text/plain": [
              "        Waktu  ketinggian  intensitas kategori_banjir\n",
              "0  01/01/2015        5.63        33.0          Siaga1\n",
              "1  02/01/2015        4.98         0.0            aman\n",
              "2  03/01/2015        4.69         0.0            aman\n",
              "3  04/01/2015        4.94        11.5            aman\n",
              "4  05/01/2015        4.61         2.0            aman"
            ]
          },
          "execution_count": 60,
          "metadata": {},
          "output_type": "execute_result"
        }
      ],
      "source": [
        "banjir_df=df.drop(columns='kategori')\n",
        "banjir_df.head()"
      ]
    },
    {
      "cell_type": "code",
      "execution_count": 61,
      "metadata": {
        "colab": {
          "base_uri": "https://localhost:8080/",
          "height": 300
        },
        "id": "0vAwQ9Wu4kKH",
        "outputId": "ac4d8c5e-3f3b-44f1-8e74-32dd9a73b58a"
      },
      "outputs": [
        {
          "data": {
            "text/html": [
              "\n",
              "  <div id=\"df-9f654c9c-6a1d-4197-9420-dca0a1019d80\">\n",
              "    <div class=\"colab-df-container\">\n",
              "      <div>\n",
              "<style scoped>\n",
              "    .dataframe tbody tr th:only-of-type {\n",
              "        vertical-align: middle;\n",
              "    }\n",
              "\n",
              "    .dataframe tbody tr th {\n",
              "        vertical-align: top;\n",
              "    }\n",
              "\n",
              "    .dataframe thead th {\n",
              "        text-align: right;\n",
              "    }\n",
              "</style>\n",
              "<table border=\"1\" class=\"dataframe\">\n",
              "  <thead>\n",
              "    <tr style=\"text-align: right;\">\n",
              "      <th></th>\n",
              "      <th>ketinggian</th>\n",
              "      <th>intensitas</th>\n",
              "    </tr>\n",
              "  </thead>\n",
              "  <tbody>\n",
              "    <tr>\n",
              "      <th>count</th>\n",
              "      <td>1461.000000</td>\n",
              "      <td>1461.000000</td>\n",
              "    </tr>\n",
              "    <tr>\n",
              "      <th>mean</th>\n",
              "      <td>4.266121</td>\n",
              "      <td>6.221355</td>\n",
              "    </tr>\n",
              "    <tr>\n",
              "      <th>std</th>\n",
              "      <td>1.350780</td>\n",
              "      <td>13.125006</td>\n",
              "    </tr>\n",
              "    <tr>\n",
              "      <th>min</th>\n",
              "      <td>1.030000</td>\n",
              "      <td>0.000000</td>\n",
              "    </tr>\n",
              "    <tr>\n",
              "      <th>25%</th>\n",
              "      <td>3.430000</td>\n",
              "      <td>0.000000</td>\n",
              "    </tr>\n",
              "    <tr>\n",
              "      <th>50%</th>\n",
              "      <td>4.180000</td>\n",
              "      <td>0.000000</td>\n",
              "    </tr>\n",
              "    <tr>\n",
              "      <th>75%</th>\n",
              "      <td>5.040000</td>\n",
              "      <td>6.000000</td>\n",
              "    </tr>\n",
              "    <tr>\n",
              "      <th>max</th>\n",
              "      <td>35.000000</td>\n",
              "      <td>92.000000</td>\n",
              "    </tr>\n",
              "  </tbody>\n",
              "</table>\n",
              "</div>\n",
              "      <button class=\"colab-df-convert\" onclick=\"convertToInteractive('df-9f654c9c-6a1d-4197-9420-dca0a1019d80')\"\n",
              "              title=\"Convert this dataframe to an interactive table.\"\n",
              "              style=\"display:none;\">\n",
              "        \n",
              "  <svg xmlns=\"http://www.w3.org/2000/svg\" height=\"24px\"viewBox=\"0 0 24 24\"\n",
              "       width=\"24px\">\n",
              "    <path d=\"M0 0h24v24H0V0z\" fill=\"none\"/>\n",
              "    <path d=\"M18.56 5.44l.94 2.06.94-2.06 2.06-.94-2.06-.94-.94-2.06-.94 2.06-2.06.94zm-11 1L8.5 8.5l.94-2.06 2.06-.94-2.06-.94L8.5 2.5l-.94 2.06-2.06.94zm10 10l.94 2.06.94-2.06 2.06-.94-2.06-.94-.94-2.06-.94 2.06-2.06.94z\"/><path d=\"M17.41 7.96l-1.37-1.37c-.4-.4-.92-.59-1.43-.59-.52 0-1.04.2-1.43.59L10.3 9.45l-7.72 7.72c-.78.78-.78 2.05 0 2.83L4 21.41c.39.39.9.59 1.41.59.51 0 1.02-.2 1.41-.59l7.78-7.78 2.81-2.81c.8-.78.8-2.07 0-2.86zM5.41 20L4 18.59l7.72-7.72 1.47 1.35L5.41 20z\"/>\n",
              "  </svg>\n",
              "      </button>\n",
              "      \n",
              "  <style>\n",
              "    .colab-df-container {\n",
              "      display:flex;\n",
              "      flex-wrap:wrap;\n",
              "      gap: 12px;\n",
              "    }\n",
              "\n",
              "    .colab-df-convert {\n",
              "      background-color: #E8F0FE;\n",
              "      border: none;\n",
              "      border-radius: 50%;\n",
              "      cursor: pointer;\n",
              "      display: none;\n",
              "      fill: #1967D2;\n",
              "      height: 32px;\n",
              "      padding: 0 0 0 0;\n",
              "      width: 32px;\n",
              "    }\n",
              "\n",
              "    .colab-df-convert:hover {\n",
              "      background-color: #E2EBFA;\n",
              "      box-shadow: 0px 1px 2px rgba(60, 64, 67, 0.3), 0px 1px 3px 1px rgba(60, 64, 67, 0.15);\n",
              "      fill: #174EA6;\n",
              "    }\n",
              "\n",
              "    [theme=dark] .colab-df-convert {\n",
              "      background-color: #3B4455;\n",
              "      fill: #D2E3FC;\n",
              "    }\n",
              "\n",
              "    [theme=dark] .colab-df-convert:hover {\n",
              "      background-color: #434B5C;\n",
              "      box-shadow: 0px 1px 3px 1px rgba(0, 0, 0, 0.15);\n",
              "      filter: drop-shadow(0px 1px 2px rgba(0, 0, 0, 0.3));\n",
              "      fill: #FFFFFF;\n",
              "    }\n",
              "  </style>\n",
              "\n",
              "      <script>\n",
              "        const buttonEl =\n",
              "          document.querySelector('#df-9f654c9c-6a1d-4197-9420-dca0a1019d80 button.colab-df-convert');\n",
              "        buttonEl.style.display =\n",
              "          google.colab.kernel.accessAllowed ? 'block' : 'none';\n",
              "\n",
              "        async function convertToInteractive(key) {\n",
              "          const element = document.querySelector('#df-9f654c9c-6a1d-4197-9420-dca0a1019d80');\n",
              "          const dataTable =\n",
              "            await google.colab.kernel.invokeFunction('convertToInteractive',\n",
              "                                                     [key], {});\n",
              "          if (!dataTable) return;\n",
              "\n",
              "          const docLinkHtml = 'Like what you see? Visit the ' +\n",
              "            '<a target=\"_blank\" href=https://colab.research.google.com/notebooks/data_table.ipynb>data table notebook</a>'\n",
              "            + ' to learn more about interactive tables.';\n",
              "          element.innerHTML = '';\n",
              "          dataTable['output_type'] = 'display_data';\n",
              "          await google.colab.output.renderOutput(dataTable, element);\n",
              "          const docLink = document.createElement('div');\n",
              "          docLink.innerHTML = docLinkHtml;\n",
              "          element.appendChild(docLink);\n",
              "        }\n",
              "      </script>\n",
              "    </div>\n",
              "  </div>\n",
              "  "
            ],
            "text/plain": [
              "        ketinggian   intensitas\n",
              "count  1461.000000  1461.000000\n",
              "mean      4.266121     6.221355\n",
              "std       1.350780    13.125006\n",
              "min       1.030000     0.000000\n",
              "25%       3.430000     0.000000\n",
              "50%       4.180000     0.000000\n",
              "75%       5.040000     6.000000\n",
              "max      35.000000    92.000000"
            ]
          },
          "execution_count": 61,
          "metadata": {},
          "output_type": "execute_result"
        }
      ],
      "source": [
        "banjir_df.describe()"
      ]
    },
    {
      "cell_type": "code",
      "execution_count": 62,
      "metadata": {
        "colab": {
          "base_uri": "https://localhost:8080/",
          "height": 112
        },
        "id": "a5R3GrZf4sUH",
        "outputId": "3269f7d3-1880-476b-b428-099e6a1677d2"
      },
      "outputs": [
        {
          "data": {
            "text/html": [
              "\n",
              "  <div id=\"df-72f90228-8dde-484b-a64b-9a8334b359e3\">\n",
              "    <div class=\"colab-df-container\">\n",
              "      <div>\n",
              "<style scoped>\n",
              "    .dataframe tbody tr th:only-of-type {\n",
              "        vertical-align: middle;\n",
              "    }\n",
              "\n",
              "    .dataframe tbody tr th {\n",
              "        vertical-align: top;\n",
              "    }\n",
              "\n",
              "    .dataframe thead th {\n",
              "        text-align: right;\n",
              "    }\n",
              "</style>\n",
              "<table border=\"1\" class=\"dataframe\">\n",
              "  <thead>\n",
              "    <tr style=\"text-align: right;\">\n",
              "      <th></th>\n",
              "      <th>ketinggian</th>\n",
              "      <th>intensitas</th>\n",
              "    </tr>\n",
              "  </thead>\n",
              "  <tbody>\n",
              "    <tr>\n",
              "      <th>ketinggian</th>\n",
              "      <td>1.000000</td>\n",
              "      <td>0.319915</td>\n",
              "    </tr>\n",
              "    <tr>\n",
              "      <th>intensitas</th>\n",
              "      <td>0.319915</td>\n",
              "      <td>1.000000</td>\n",
              "    </tr>\n",
              "  </tbody>\n",
              "</table>\n",
              "</div>\n",
              "      <button class=\"colab-df-convert\" onclick=\"convertToInteractive('df-72f90228-8dde-484b-a64b-9a8334b359e3')\"\n",
              "              title=\"Convert this dataframe to an interactive table.\"\n",
              "              style=\"display:none;\">\n",
              "        \n",
              "  <svg xmlns=\"http://www.w3.org/2000/svg\" height=\"24px\"viewBox=\"0 0 24 24\"\n",
              "       width=\"24px\">\n",
              "    <path d=\"M0 0h24v24H0V0z\" fill=\"none\"/>\n",
              "    <path d=\"M18.56 5.44l.94 2.06.94-2.06 2.06-.94-2.06-.94-.94-2.06-.94 2.06-2.06.94zm-11 1L8.5 8.5l.94-2.06 2.06-.94-2.06-.94L8.5 2.5l-.94 2.06-2.06.94zm10 10l.94 2.06.94-2.06 2.06-.94-2.06-.94-.94-2.06-.94 2.06-2.06.94z\"/><path d=\"M17.41 7.96l-1.37-1.37c-.4-.4-.92-.59-1.43-.59-.52 0-1.04.2-1.43.59L10.3 9.45l-7.72 7.72c-.78.78-.78 2.05 0 2.83L4 21.41c.39.39.9.59 1.41.59.51 0 1.02-.2 1.41-.59l7.78-7.78 2.81-2.81c.8-.78.8-2.07 0-2.86zM5.41 20L4 18.59l7.72-7.72 1.47 1.35L5.41 20z\"/>\n",
              "  </svg>\n",
              "      </button>\n",
              "      \n",
              "  <style>\n",
              "    .colab-df-container {\n",
              "      display:flex;\n",
              "      flex-wrap:wrap;\n",
              "      gap: 12px;\n",
              "    }\n",
              "\n",
              "    .colab-df-convert {\n",
              "      background-color: #E8F0FE;\n",
              "      border: none;\n",
              "      border-radius: 50%;\n",
              "      cursor: pointer;\n",
              "      display: none;\n",
              "      fill: #1967D2;\n",
              "      height: 32px;\n",
              "      padding: 0 0 0 0;\n",
              "      width: 32px;\n",
              "    }\n",
              "\n",
              "    .colab-df-convert:hover {\n",
              "      background-color: #E2EBFA;\n",
              "      box-shadow: 0px 1px 2px rgba(60, 64, 67, 0.3), 0px 1px 3px 1px rgba(60, 64, 67, 0.15);\n",
              "      fill: #174EA6;\n",
              "    }\n",
              "\n",
              "    [theme=dark] .colab-df-convert {\n",
              "      background-color: #3B4455;\n",
              "      fill: #D2E3FC;\n",
              "    }\n",
              "\n",
              "    [theme=dark] .colab-df-convert:hover {\n",
              "      background-color: #434B5C;\n",
              "      box-shadow: 0px 1px 3px 1px rgba(0, 0, 0, 0.15);\n",
              "      filter: drop-shadow(0px 1px 2px rgba(0, 0, 0, 0.3));\n",
              "      fill: #FFFFFF;\n",
              "    }\n",
              "  </style>\n",
              "\n",
              "      <script>\n",
              "        const buttonEl =\n",
              "          document.querySelector('#df-72f90228-8dde-484b-a64b-9a8334b359e3 button.colab-df-convert');\n",
              "        buttonEl.style.display =\n",
              "          google.colab.kernel.accessAllowed ? 'block' : 'none';\n",
              "\n",
              "        async function convertToInteractive(key) {\n",
              "          const element = document.querySelector('#df-72f90228-8dde-484b-a64b-9a8334b359e3');\n",
              "          const dataTable =\n",
              "            await google.colab.kernel.invokeFunction('convertToInteractive',\n",
              "                                                     [key], {});\n",
              "          if (!dataTable) return;\n",
              "\n",
              "          const docLinkHtml = 'Like what you see? Visit the ' +\n",
              "            '<a target=\"_blank\" href=https://colab.research.google.com/notebooks/data_table.ipynb>data table notebook</a>'\n",
              "            + ' to learn more about interactive tables.';\n",
              "          element.innerHTML = '';\n",
              "          dataTable['output_type'] = 'display_data';\n",
              "          await google.colab.output.renderOutput(dataTable, element);\n",
              "          const docLink = document.createElement('div');\n",
              "          docLink.innerHTML = docLinkHtml;\n",
              "          element.appendChild(docLink);\n",
              "        }\n",
              "      </script>\n",
              "    </div>\n",
              "  </div>\n",
              "  "
            ],
            "text/plain": [
              "            ketinggian  intensitas\n",
              "ketinggian    1.000000    0.319915\n",
              "intensitas    0.319915    1.000000"
            ]
          },
          "execution_count": 62,
          "metadata": {},
          "output_type": "execute_result"
        }
      ],
      "source": [
        "banjir_df.corr()"
      ]
    },
    {
      "cell_type": "code",
      "execution_count": 63,
      "metadata": {
        "colab": {
          "base_uri": "https://localhost:8080/",
          "height": 504
        },
        "id": "IeIO5kaHA6xw",
        "outputId": "2138474c-e166-4116-97ad-b9d2739c2182"
      },
      "outputs": [
        {
          "data": {
            "text/plain": [
              "<matplotlib.axes._subplots.AxesSubplot at 0x7f80c274edd0>"
            ]
          },
          "execution_count": 63,
          "metadata": {},
          "output_type": "execute_result"
        },
        {
          "data": {
            "image/png": "[encoded data removed]",
            "text/plain": [
              "<Figure size 576x576 with 2 Axes>"
            ]
          },
          "metadata": {
            "needs_background": "light"
          },
          "output_type": "display_data"
        }
      ],
      "source": [
        "plt.figure(figsize=(8, 8))\n",
        "sns.heatmap(banjir_df.corr(),annot=True)"
      ]
    },
    {
      "cell_type": "code",
      "execution_count": 64,
      "metadata": {
        "colab": {
          "base_uri": "https://localhost:8080/",
          "height": 297
        },
        "id": "vchDrMOg-xAP",
        "outputId": "1a3026f8-c85f-4c2f-8242-1d0c06242ec4"
      },
      "outputs": [
        {
          "data": {
            "image/png": "[encoded data removed]",
            "text/plain": [
              "<Figure size 432x288 with 1 Axes>"
            ]
          },
          "metadata": {
            "needs_background": "light"
          },
          "output_type": "display_data"
        }
      ],
      "source": [
        "banjir_df.boxplot()\n",
        "plt.tight_layout()"
      ]
    },
    {
      "cell_type": "code",
      "execution_count": 65,
      "metadata": {
        "colab": {
          "base_uri": "https://localhost:8080/",
          "height": 674
        },
        "id": "BZ9MMDrIDjTJ",
        "outputId": "b9fdf62d-18ff-4c79-e086-d05e680fc3e1"
      },
      "outputs": [
        {
          "name": "stderr",
          "output_type": "stream",
          "text": [
            "/usr/local/lib/python3.7/dist-packages/matplotlib/cbook/__init__.py:1376: VisibleDeprecationWarning: Creating an ndarray from ragged nested sequences (which is a list-or-tuple of lists-or-tuples-or ndarrays with different lengths or shapes) is deprecated. If you meant to do this, you must specify 'dtype=object' when creating the ndarray.\n",
            "  X = np.atleast_1d(X.T if isinstance(X, np.ndarray) else np.asarray(X))\n",
            "/usr/local/lib/python3.7/dist-packages/matplotlib/cbook/__init__.py:1376: VisibleDeprecationWarning: Creating an ndarray from ragged nested sequences (which is a list-or-tuple of lists-or-tuples-or ndarrays with different lengths or shapes) is deprecated. If you meant to do this, you must specify 'dtype=object' when creating the ndarray.\n",
            "  X = np.atleast_1d(X.T if isinstance(X, np.ndarray) else np.asarray(X))\n"
          ]
        },
        {
          "data": {
            "image/png": "[encoded data removed]",
            "text/plain": [
              "<Figure size 576x576 with 2 Axes>"
            ]
          },
          "metadata": {
            "needs_background": "light"
          },
          "output_type": "display_data"
        }
      ],
      "source": [
        "df.boxplot(by='kategori', figsize=(8,8))\n",
        "plt.tight_layout()"
      ]
    },
    {
      "cell_type": "code",
      "execution_count": 66,
      "metadata": {
        "colab": {
          "base_uri": "https://localhost:8080/",
          "height": 206
        },
        "id": "z1Lok0wD9kse",
        "outputId": "100dad3d-8b2a-4fb7-9557-0496bcc9217c"
      },
      "outputs": [
        {
          "data": {
            "text/html": [
              "\n",
              "  <div id=\"df-2a0dd7b4-8ea0-4b1a-860f-8c5d718a3dd3\">\n",
              "    <div class=\"colab-df-container\">\n",
              "      <div>\n",
              "<style scoped>\n",
              "    .dataframe tbody tr th:only-of-type {\n",
              "        vertical-align: middle;\n",
              "    }\n",
              "\n",
              "    .dataframe tbody tr th {\n",
              "        vertical-align: top;\n",
              "    }\n",
              "\n",
              "    .dataframe thead th {\n",
              "        text-align: right;\n",
              "    }\n",
              "</style>\n",
              "<table border=\"1\" class=\"dataframe\">\n",
              "  <thead>\n",
              "    <tr style=\"text-align: right;\">\n",
              "      <th></th>\n",
              "      <th>Waktu</th>\n",
              "      <th>ketinggian</th>\n",
              "      <th>intensitas</th>\n",
              "      <th>kategori_banjir</th>\n",
              "      <th>kategori</th>\n",
              "    </tr>\n",
              "  </thead>\n",
              "  <tbody>\n",
              "    <tr>\n",
              "      <th>0</th>\n",
              "      <td>01/01/2015</td>\n",
              "      <td>5.63</td>\n",
              "      <td>33.0</td>\n",
              "      <td>Siaga1</td>\n",
              "      <td>1</td>\n",
              "    </tr>\n",
              "    <tr>\n",
              "      <th>1</th>\n",
              "      <td>02/01/2015</td>\n",
              "      <td>4.98</td>\n",
              "      <td>0.0</td>\n",
              "      <td>aman</td>\n",
              "      <td>0</td>\n",
              "    </tr>\n",
              "    <tr>\n",
              "      <th>2</th>\n",
              "      <td>03/01/2015</td>\n",
              "      <td>4.69</td>\n",
              "      <td>0.0</td>\n",
              "      <td>aman</td>\n",
              "      <td>0</td>\n",
              "    </tr>\n",
              "    <tr>\n",
              "      <th>3</th>\n",
              "      <td>04/01/2015</td>\n",
              "      <td>4.94</td>\n",
              "      <td>11.5</td>\n",
              "      <td>aman</td>\n",
              "      <td>0</td>\n",
              "    </tr>\n",
              "    <tr>\n",
              "      <th>4</th>\n",
              "      <td>05/01/2015</td>\n",
              "      <td>4.61</td>\n",
              "      <td>2.0</td>\n",
              "      <td>aman</td>\n",
              "      <td>0</td>\n",
              "    </tr>\n",
              "  </tbody>\n",
              "</table>\n",
              "</div>\n",
              "      <button class=\"colab-df-convert\" onclick=\"convertToInteractive('df-2a0dd7b4-8ea0-4b1a-860f-8c5d718a3dd3')\"\n",
              "              title=\"Convert this dataframe to an interactive table.\"\n",
              "              style=\"display:none;\">\n",
              "        \n",
              "  <svg xmlns=\"http://www.w3.org/2000/svg\" height=\"24px\"viewBox=\"0 0 24 24\"\n",
              "       width=\"24px\">\n",
              "    <path d=\"M0 0h24v24H0V0z\" fill=\"none\"/>\n",
              "    <path d=\"M18.56 5.44l.94 2.06.94-2.06 2.06-.94-2.06-.94-.94-2.06-.94 2.06-2.06.94zm-11 1L8.5 8.5l.94-2.06 2.06-.94-2.06-.94L8.5 2.5l-.94 2.06-2.06.94zm10 10l.94 2.06.94-2.06 2.06-.94-2.06-.94-.94-2.06-.94 2.06-2.06.94z\"/><path d=\"M17.41 7.96l-1.37-1.37c-.4-.4-.92-.59-1.43-.59-.52 0-1.04.2-1.43.59L10.3 9.45l-7.72 7.72c-.78.78-.78 2.05 0 2.83L4 21.41c.39.39.9.59 1.41.59.51 0 1.02-.2 1.41-.59l7.78-7.78 2.81-2.81c.8-.78.8-2.07 0-2.86zM5.41 20L4 18.59l7.72-7.72 1.47 1.35L5.41 20z\"/>\n",
              "  </svg>\n",
              "      </button>\n",
              "      \n",
              "  <style>\n",
              "    .colab-df-container {\n",
              "      display:flex;\n",
              "      flex-wrap:wrap;\n",
              "      gap: 12px;\n",
              "    }\n",
              "\n",
              "    .colab-df-convert {\n",
              "      background-color: #E8F0FE;\n",
              "      border: none;\n",
              "      border-radius: 50%;\n",
              "      cursor: pointer;\n",
              "      display: none;\n",
              "      fill: #1967D2;\n",
              "      height: 32px;\n",
              "      padding: 0 0 0 0;\n",
              "      width: 32px;\n",
              "    }\n",
              "\n",
              "    .colab-df-convert:hover {\n",
              "      background-color: #E2EBFA;\n",
              "      box-shadow: 0px 1px 2px rgba(60, 64, 67, 0.3), 0px 1px 3px 1px rgba(60, 64, 67, 0.15);\n",
              "      fill: #174EA6;\n",
              "    }\n",
              "\n",
              "    [theme=dark] .colab-df-convert {\n",
              "      background-color: #3B4455;\n",
              "      fill: #D2E3FC;\n",
              "    }\n",
              "\n",
              "    [theme=dark] .colab-df-convert:hover {\n",
              "      background-color: #434B5C;\n",
              "      box-shadow: 0px 1px 3px 1px rgba(0, 0, 0, 0.15);\n",
              "      filter: drop-shadow(0px 1px 2px rgba(0, 0, 0, 0.3));\n",
              "      fill: #FFFFFF;\n",
              "    }\n",
              "  </style>\n",
              "\n",
              "      <script>\n",
              "        const buttonEl =\n",
              "          document.querySelector('#df-2a0dd7b4-8ea0-4b1a-860f-8c5d718a3dd3 button.colab-df-convert');\n",
              "        buttonEl.style.display =\n",
              "          google.colab.kernel.accessAllowed ? 'block' : 'none';\n",
              "\n",
              "        async function convertToInteractive(key) {\n",
              "          const element = document.querySelector('#df-2a0dd7b4-8ea0-4b1a-860f-8c5d718a3dd3');\n",
              "          const dataTable =\n",
              "            await google.colab.kernel.invokeFunction('convertToInteractive',\n",
              "                                                     [key], {});\n",
              "          if (!dataTable) return;\n",
              "\n",
              "          const docLinkHtml = 'Like what you see? Visit the ' +\n",
              "            '<a target=\"_blank\" href=https://colab.research.google.com/notebooks/data_table.ipynb>data table notebook</a>'\n",
              "            + ' to learn more about interactive tables.';\n",
              "          element.innerHTML = '';\n",
              "          dataTable['output_type'] = 'display_data';\n",
              "          await google.colab.output.renderOutput(dataTable, element);\n",
              "          const docLink = document.createElement('div');\n",
              "          docLink.innerHTML = docLinkHtml;\n",
              "          element.appendChild(docLink);\n",
              "        }\n",
              "      </script>\n",
              "    </div>\n",
              "  </div>\n",
              "  "
            ],
            "text/plain": [
              "        Waktu  ketinggian  intensitas kategori_banjir  kategori\n",
              "0  01/01/2015        5.63        33.0          Siaga1         1\n",
              "1  02/01/2015        4.98         0.0            aman         0\n",
              "2  03/01/2015        4.69         0.0            aman         0\n",
              "3  04/01/2015        4.94        11.5            aman         0\n",
              "4  05/01/2015        4.61         2.0            aman         0"
            ]
          },
          "execution_count": 66,
          "metadata": {},
          "output_type": "execute_result"
        }
      ],
      "source": [
        "df['kategori'].replace(['aman','Siaga1','Siaga2'],[0,1,2],inplace=True)\n",
        "df.head()"
      ]
    },
    {
      "cell_type": "code",
      "execution_count": 67,
      "metadata": {
        "colab": {
          "base_uri": "https://localhost:8080/"
        },
        "id": "2jTf0sJcA2ZR",
        "outputId": "b2c39892-f1bf-4071-8c50-423d5dbbbee6"
      },
      "outputs": [
        {
          "data": {
            "text/plain": [
              "0    1202\n",
              "1     247\n",
              "2      12\n",
              "Name: kategori, dtype: int64"
            ]
          },
          "execution_count": 67,
          "metadata": {},
          "output_type": "execute_result"
        }
      ],
      "source": [
        "df['kategori'].value_counts()"
      ]
    },
    {
      "cell_type": "code",
      "execution_count": 68,
      "metadata": {
        "colab": {
          "base_uri": "https://localhost:8080/",
          "height": 206
        },
        "id": "_WYY4LjhqSXu",
        "outputId": "a92574d8-5359-4999-e8a5-bdb7e83e14de"
      },
      "outputs": [
        {
          "data": {
            "text/html": [
              "\n",
              "  <div id=\"df-49277d42-b8df-418e-95e0-d83c0f148f73\">\n",
              "    <div class=\"colab-df-container\">\n",
              "      <div>\n",
              "<style scoped>\n",
              "    .dataframe tbody tr th:only-of-type {\n",
              "        vertical-align: middle;\n",
              "    }\n",
              "\n",
              "    .dataframe tbody tr th {\n",
              "        vertical-align: top;\n",
              "    }\n",
              "\n",
              "    .dataframe thead th {\n",
              "        text-align: right;\n",
              "    }\n",
              "</style>\n",
              "<table border=\"1\" class=\"dataframe\">\n",
              "  <thead>\n",
              "    <tr style=\"text-align: right;\">\n",
              "      <th></th>\n",
              "      <th>ketinggian</th>\n",
              "      <th>intensitas</th>\n",
              "    </tr>\n",
              "  </thead>\n",
              "  <tbody>\n",
              "    <tr>\n",
              "      <th>0</th>\n",
              "      <td>5.63</td>\n",
              "      <td>33.0</td>\n",
              "    </tr>\n",
              "    <tr>\n",
              "      <th>1</th>\n",
              "      <td>4.98</td>\n",
              "      <td>0.0</td>\n",
              "    </tr>\n",
              "    <tr>\n",
              "      <th>2</th>\n",
              "      <td>4.69</td>\n",
              "      <td>0.0</td>\n",
              "    </tr>\n",
              "    <tr>\n",
              "      <th>3</th>\n",
              "      <td>4.94</td>\n",
              "      <td>11.5</td>\n",
              "    </tr>\n",
              "    <tr>\n",
              "      <th>4</th>\n",
              "      <td>4.61</td>\n",
              "      <td>2.0</td>\n",
              "    </tr>\n",
              "  </tbody>\n",
              "</table>\n",
              "</div>\n",
              "      <button class=\"colab-df-convert\" onclick=\"convertToInteractive('df-49277d42-b8df-418e-95e0-d83c0f148f73')\"\n",
              "              title=\"Convert this dataframe to an interactive table.\"\n",
              "              style=\"display:none;\">\n",
              "        \n",
              "  <svg xmlns=\"http://www.w3.org/2000/svg\" height=\"24px\"viewBox=\"0 0 24 24\"\n",
              "       width=\"24px\">\n",
              "    <path d=\"M0 0h24v24H0V0z\" fill=\"none\"/>\n",
              "    <path d=\"M18.56 5.44l.94 2.06.94-2.06 2.06-.94-2.06-.94-.94-2.06-.94 2.06-2.06.94zm-11 1L8.5 8.5l.94-2.06 2.06-.94-2.06-.94L8.5 2.5l-.94 2.06-2.06.94zm10 10l.94 2.06.94-2.06 2.06-.94-2.06-.94-.94-2.06-.94 2.06-2.06.94z\"/><path d=\"M17.41 7.96l-1.37-1.37c-.4-.4-.92-.59-1.43-.59-.52 0-1.04.2-1.43.59L10.3 9.45l-7.72 7.72c-.78.78-.78 2.05 0 2.83L4 21.41c.39.39.9.59 1.41.59.51 0 1.02-.2 1.41-.59l7.78-7.78 2.81-2.81c.8-.78.8-2.07 0-2.86zM5.41 20L4 18.59l7.72-7.72 1.47 1.35L5.41 20z\"/>\n",
              "  </svg>\n",
              "      </button>\n",
              "      \n",
              "  <style>\n",
              "    .colab-df-container {\n",
              "      display:flex;\n",
              "      flex-wrap:wrap;\n",
              "      gap: 12px;\n",
              "    }\n",
              "\n",
              "    .colab-df-convert {\n",
              "      background-color: #E8F0FE;\n",
              "      border: none;\n",
              "      border-radius: 50%;\n",
              "      cursor: pointer;\n",
              "      display: none;\n",
              "      fill: #1967D2;\n",
              "      height: 32px;\n",
              "      padding: 0 0 0 0;\n",
              "      width: 32px;\n",
              "    }\n",
              "\n",
              "    .colab-df-convert:hover {\n",
              "      background-color: #E2EBFA;\n",
              "      box-shadow: 0px 1px 2px rgba(60, 64, 67, 0.3), 0px 1px 3px 1px rgba(60, 64, 67, 0.15);\n",
              "      fill: #174EA6;\n",
              "    }\n",
              "\n",
              "    [theme=dark] .colab-df-convert {\n",
              "      background-color: #3B4455;\n",
              "      fill: #D2E3FC;\n",
              "    }\n",
              "\n",
              "    [theme=dark] .colab-df-convert:hover {\n",
              "      background-color: #434B5C;\n",
              "      box-shadow: 0px 1px 3px 1px rgba(0, 0, 0, 0.15);\n",
              "      filter: drop-shadow(0px 1px 2px rgba(0, 0, 0, 0.3));\n",
              "      fill: #FFFFFF;\n",
              "    }\n",
              "  </style>\n",
              "\n",
              "      <script>\n",
              "        const buttonEl =\n",
              "          document.querySelector('#df-49277d42-b8df-418e-95e0-d83c0f148f73 button.colab-df-convert');\n",
              "        buttonEl.style.display =\n",
              "          google.colab.kernel.accessAllowed ? 'block' : 'none';\n",
              "\n",
              "        async function convertToInteractive(key) {\n",
              "          const element = document.querySelector('#df-49277d42-b8df-418e-95e0-d83c0f148f73');\n",
              "          const dataTable =\n",
              "            await google.colab.kernel.invokeFunction('convertToInteractive',\n",
              "                                                     [key], {});\n",
              "          if (!dataTable) return;\n",
              "\n",
              "          const docLinkHtml = 'Like what you see? Visit the ' +\n",
              "            '<a target=\"_blank\" href=https://colab.research.google.com/notebooks/data_table.ipynb>data table notebook</a>'\n",
              "            + ' to learn more about interactive tables.';\n",
              "          element.innerHTML = '';\n",
              "          dataTable['output_type'] = 'display_data';\n",
              "          await google.colab.output.renderOutput(dataTable, element);\n",
              "          const docLink = document.createElement('div');\n",
              "          docLink.innerHTML = docLinkHtml;\n",
              "          element.appendChild(docLink);\n",
              "        }\n",
              "      </script>\n",
              "    </div>\n",
              "  </div>\n",
              "  "
            ],
            "text/plain": [
              "   ketinggian  intensitas\n",
              "0        5.63        33.0\n",
              "1        4.98         0.0\n",
              "2        4.69         0.0\n",
              "3        4.94        11.5\n",
              "4        4.61         2.0"
            ]
          },
          "execution_count": 68,
          "metadata": {},
          "output_type": "execute_result"
        }
      ],
      "source": [
        "#Now let's seperate the data which we are gonna use for prediction\n",
        "x = df.iloc[:,1:3]\n",
        "x.head()"
      ]
    },
    {
      "cell_type": "code",
      "execution_count": 69,
      "metadata": {
        "colab": {
          "base_uri": "https://localhost:8080/"
        },
        "id": "ed_-fU9CqSM-",
        "outputId": "6ae7319c-cdb3-4eb0-cc57-3348ea9f3c54"
      },
      "outputs": [
        {
          "data": {
            "text/plain": [
              "0    1\n",
              "1    0\n",
              "2    0\n",
              "3    0\n",
              "4    0\n",
              "Name: kategori, dtype: int64"
            ]
          },
          "execution_count": 69,
          "metadata": {},
          "output_type": "execute_result"
        }
      ],
      "source": [
        "#Now seperate the flood label from the dataset\n",
        "y = df.iloc[:, -1]\n",
        "y.head()"
      ]
    },
    {
      "cell_type": "markdown",
      "metadata": {
        "id": "YYx4YUFBG9A3"
      },
      "source": [
        "### **Decision Tree**"
      ]
    },
    {
      "cell_type": "code",
      "execution_count": 70,
      "metadata": {
        "id": "fMhgjhynlWD0"
      },
      "outputs": [],
      "source": [
        "from sklearn import model_selection,neighbors\n",
        "from sklearn.model_selection import train_test_split\n",
        "x_train,x_test,y_train,y_test=train_test_split(x,y,test_size=0.4,random_state=0)"
      ]
    },
    {
      "cell_type": "code",
      "execution_count": 71,
      "metadata": {
        "colab": {
          "base_uri": "https://localhost:8080/",
          "height": 206
        },
        "id": "Na45-ioppsUp",
        "outputId": "e4ae8c57-6314-4d55-93dc-21bb1948f32f"
      },
      "outputs": [
        {
          "data": {
            "text/html": [
              "\n",
              "  <div id=\"df-bf506a2e-9d4e-433e-89c6-f1406b9b620c\">\n",
              "    <div class=\"colab-df-container\">\n",
              "      <div>\n",
              "<style scoped>\n",
              "    .dataframe tbody tr th:only-of-type {\n",
              "        vertical-align: middle;\n",
              "    }\n",
              "\n",
              "    .dataframe tbody tr th {\n",
              "        vertical-align: top;\n",
              "    }\n",
              "\n",
              "    .dataframe thead th {\n",
              "        text-align: right;\n",
              "    }\n",
              "</style>\n",
              "<table border=\"1\" class=\"dataframe\">\n",
              "  <thead>\n",
              "    <tr style=\"text-align: right;\">\n",
              "      <th></th>\n",
              "      <th>ketinggian</th>\n",
              "      <th>intensitas</th>\n",
              "    </tr>\n",
              "  </thead>\n",
              "  <tbody>\n",
              "    <tr>\n",
              "      <th>1098</th>\n",
              "      <td>5.24</td>\n",
              "      <td>13.5</td>\n",
              "    </tr>\n",
              "    <tr>\n",
              "      <th>1147</th>\n",
              "      <td>5.41</td>\n",
              "      <td>3.5</td>\n",
              "    </tr>\n",
              "    <tr>\n",
              "      <th>503</th>\n",
              "      <td>6.24</td>\n",
              "      <td>14.5</td>\n",
              "    </tr>\n",
              "    <tr>\n",
              "      <th>601</th>\n",
              "      <td>3.39</td>\n",
              "      <td>0.0</td>\n",
              "    </tr>\n",
              "    <tr>\n",
              "      <th>1064</th>\n",
              "      <td>5.03</td>\n",
              "      <td>1.5</td>\n",
              "    </tr>\n",
              "  </tbody>\n",
              "</table>\n",
              "</div>\n",
              "      <button class=\"colab-df-convert\" onclick=\"convertToInteractive('df-bf506a2e-9d4e-433e-89c6-f1406b9b620c')\"\n",
              "              title=\"Convert this dataframe to an interactive table.\"\n",
              "              style=\"display:none;\">\n",
              "        \n",
              "  <svg xmlns=\"http://www.w3.org/2000/svg\" height=\"24px\"viewBox=\"0 0 24 24\"\n",
              "       width=\"24px\">\n",
              "    <path d=\"M0 0h24v24H0V0z\" fill=\"none\"/>\n",
              "    <path d=\"M18.56 5.44l.94 2.06.94-2.06 2.06-.94-2.06-.94-.94-2.06-.94 2.06-2.06.94zm-11 1L8.5 8.5l.94-2.06 2.06-.94-2.06-.94L8.5 2.5l-.94 2.06-2.06.94zm10 10l.94 2.06.94-2.06 2.06-.94-2.06-.94-.94-2.06-.94 2.06-2.06.94z\"/><path d=\"M17.41 7.96l-1.37-1.37c-.4-.4-.92-.59-1.43-.59-.52 0-1.04.2-1.43.59L10.3 9.45l-7.72 7.72c-.78.78-.78 2.05 0 2.83L4 21.41c.39.39.9.59 1.41.59.51 0 1.02-.2 1.41-.59l7.78-7.78 2.81-2.81c.8-.78.8-2.07 0-2.86zM5.41 20L4 18.59l7.72-7.72 1.47 1.35L5.41 20z\"/>\n",
              "  </svg>\n",
              "      </button>\n",
              "      \n",
              "  <style>\n",
              "    .colab-df-container {\n",
              "      display:flex;\n",
              "      flex-wrap:wrap;\n",
              "      gap: 12px;\n",
              "    }\n",
              "\n",
              "    .colab-df-convert {\n",
              "      background-color: #E8F0FE;\n",
              "      border: none;\n",
              "      border-radius: 50%;\n",
              "      cursor: pointer;\n",
              "      display: none;\n",
              "      fill: #1967D2;\n",
              "      height: 32px;\n",
              "      padding: 0 0 0 0;\n",
              "      width: 32px;\n",
              "    }\n",
              "\n",
              "    .colab-df-convert:hover {\n",
              "      background-color: #E2EBFA;\n",
              "      box-shadow: 0px 1px 2px rgba(60, 64, 67, 0.3), 0px 1px 3px 1px rgba(60, 64, 67, 0.15);\n",
              "      fill: #174EA6;\n",
              "    }\n",
              "\n",
              "    [theme=dark] .colab-df-convert {\n",
              "      background-color: #3B4455;\n",
              "      fill: #D2E3FC;\n",
              "    }\n",
              "\n",
              "    [theme=dark] .colab-df-convert:hover {\n",
              "      background-color: #434B5C;\n",
              "      box-shadow: 0px 1px 3px 1px rgba(0, 0, 0, 0.15);\n",
              "      filter: drop-shadow(0px 1px 2px rgba(0, 0, 0, 0.3));\n",
              "      fill: #FFFFFF;\n",
              "    }\n",
              "  </style>\n",
              "\n",
              "      <script>\n",
              "        const buttonEl =\n",
              "          document.querySelector('#df-bf506a2e-9d4e-433e-89c6-f1406b9b620c button.colab-df-convert');\n",
              "        buttonEl.style.display =\n",
              "          google.colab.kernel.accessAllowed ? 'block' : 'none';\n",
              "\n",
              "        async function convertToInteractive(key) {\n",
              "          const element = document.querySelector('#df-bf506a2e-9d4e-433e-89c6-f1406b9b620c');\n",
              "          const dataTable =\n",
              "            await google.colab.kernel.invokeFunction('convertToInteractive',\n",
              "                                                     [key], {});\n",
              "          if (!dataTable) return;\n",
              "\n",
              "          const docLinkHtml = 'Like what you see? Visit the ' +\n",
              "            '<a target=\"_blank\" href=https://colab.research.google.com/notebooks/data_table.ipynb>data table notebook</a>'\n",
              "            + ' to learn more about interactive tables.';\n",
              "          element.innerHTML = '';\n",
              "          dataTable['output_type'] = 'display_data';\n",
              "          await google.colab.output.renderOutput(dataTable, element);\n",
              "          const docLink = document.createElement('div');\n",
              "          docLink.innerHTML = docLinkHtml;\n",
              "          element.appendChild(docLink);\n",
              "        }\n",
              "      </script>\n",
              "    </div>\n",
              "  </div>\n",
              "  "
            ],
            "text/plain": [
              "      ketinggian  intensitas\n",
              "1098        5.24        13.5\n",
              "1147        5.41         3.5\n",
              "503         6.24        14.5\n",
              "601         3.39         0.0\n",
              "1064        5.03         1.5"
            ]
          },
          "execution_count": 71,
          "metadata": {},
          "output_type": "execute_result"
        }
      ],
      "source": [
        "#Let's see how our train set looks like\n",
        "x_train.head()"
      ]
    },
    {
      "cell_type": "code",
      "execution_count": 72,
      "metadata": {
        "colab": {
          "base_uri": "https://localhost:8080/"
        },
        "id": "IBiyAvfZqyMZ",
        "outputId": "e41a8d8a-8feb-4164-bd15-7c4a6f995931"
      },
      "outputs": [
        {
          "data": {
            "text/plain": [
              "1098    1\n",
              "1147    1\n",
              "503     0\n",
              "601     0\n",
              "1064    1\n",
              "Name: kategori, dtype: int64"
            ]
          },
          "execution_count": 72,
          "metadata": {},
          "output_type": "execute_result"
        }
      ],
      "source": [
        "y_train.head()"
      ]
    },
    {
      "cell_type": "code",
      "execution_count": 73,
      "metadata": {
        "colab": {
          "base_uri": "https://localhost:8080/"
        },
        "id": "28V4O2a2q0ro",
        "outputId": "5a424f27-c317-4d5c-b897-f8da4f3d1141"
      },
      "outputs": [
        {
          "data": {
            "text/plain": [
              "array([0.96232877, 0.9760274 , 0.97260274])"
            ]
          },
          "execution_count": 73,
          "metadata": {},
          "output_type": "execute_result"
        }
      ],
      "source": [
        "from sklearn.tree import DecisionTreeClassifier\n",
        "from sklearn.model_selection import cross_val_score\n",
        "from sklearn.metrics import accuracy_score,recall_score,roc_auc_score,confusion_matrix\n",
        "dtc_clf = DecisionTreeClassifier()\n",
        "x_train = x_train.values\n",
        "dtc_clf.fit(x_train,y_train)\n",
        "dtc_clf_acc = cross_val_score(dtc_clf,x_train,y_train,cv=3,scoring=\"accuracy\",n_jobs=-1)\n",
        "dtc_clf_acc"
      ]
    },
    {
      "cell_type": "code",
      "execution_count": 74,
      "metadata": {
        "colab": {
          "base_uri": "https://localhost:8080/"
        },
        "id": "MRWMfS3xIdlz",
        "outputId": "1a67a0db-44dc-4597-e651-84e22efde9cc"
      },
      "outputs": [
        {
          "name": "stdout",
          "output_type": "stream",
          "text": [
            "\n",
            "accuracy score:99.429224\n",
            "recall score:99.429224\n"
          ]
        }
      ],
      "source": [
        "y_pred = dtc_clf.predict(x_train)\n",
        "print(\"\\naccuracy score:%f\"%(accuracy_score(y_train,y_pred)*100))\n",
        "print(\"recall score:%f\"%(recall_score(y_train,y_pred,average='micro')*100))"
      ]
    },
    {
      "cell_type": "code",
      "execution_count": 75,
      "metadata": {
        "colab": {
          "base_uri": "https://localhost:8080/"
        },
        "id": "YSKsK5pQJiMc",
        "outputId": "a7bffbc3-cfe5-4160-daab-fbcba1a12463"
      },
      "outputs": [
        {
          "name": "stdout",
          "output_type": "stream",
          "text": [
            "Confusion Matrix: \n",
            " [[710   0   0]\n",
            " [  5 152   0]\n",
            " [  0   0   9]]\n",
            "              precision    recall  f1-score   support\n",
            "\n",
            "           0       0.99      1.00      1.00       710\n",
            "           1       1.00      0.97      0.98       157\n",
            "           2       1.00      1.00      1.00         9\n",
            "\n",
            "    accuracy                           0.99       876\n",
            "   macro avg       1.00      0.99      0.99       876\n",
            "weighted avg       0.99      0.99      0.99       876\n",
            "\n"
          ]
        }
      ],
      "source": [
        "cm=confusion_matrix(y_train,y_pred)\n",
        "print('Confusion Matrix: \\n', cm)\n",
        "print(metrics.classification_report(y_train, y_pred))"
      ]
    },
    {
      "cell_type": "code",
      "execution_count": 76,
      "metadata": {
        "colab": {
          "base_uri": "https://localhost:8080/"
        },
        "id": "MowGXJWyrCiC",
        "outputId": "f27955f2-122b-4577-de4f-423ce1829e0a"
      },
      "outputs": [
        {
          "name": "stdout",
          "output_type": "stream",
          "text": [
            "[0 0 1 0 0 1 0 0 0 1 0 0 0 0 0 0 0 1 1 0 0 0 0 0 0 0 0 0 0 1 0 0 0 0 2 1 0\n",
            " 0 0 0 0 0 0 0 0 0 0 0 0 0 0 0 0 0 0 1 0 0 0 0 1 0 0 0 0 0 0 0 0 0 0 0 0 0\n",
            " 0 0 0 0 0 0 0 0 0 1 1 0 0 0 0 1 0 0 1 0 1 0 0 0 0 1 0 0 0 1 0 0 0 0 0 0 0\n",
            " 0 0 0 0 0 0 0 1 0 0 0 0 0 0 0 0 0 0 0 1 0 0 0 0 0 0 0 0 0 0 0 0 0 1 0 0 0\n",
            " 0 0 0 0 0 0 1 0 0 0 0 0 0 0 0 0 0 0 0 0 0 0 0 1 0 0 1 0 0 0 0 0 0 0 1 0 0\n",
            " 0 0 0 1 0 0 0 1 0 0 0 0 0 0 1 0 0 0 1 1 0 1 0 0 0 0 0 0 0 0 0 0 0 0 1 0 0\n",
            " 0 0 0 0 0 0 0 0 1 0 0 1 1 0 0 0 1 1 0 0 0 0 0 1 0 0 0 0 0 0 0 0 0 1 0 0 0\n",
            " 1 0 0 0 0 0 0 1 0 0 0 0 0 0 0 0 1 0 0 0 1 0 1 1 0 0 0 0 0 0 1 1 0 0 0 1 0\n",
            " 0 0 1 0 0 0 0 0 1 0 0 0 0 0 0 0 0 0 0 1 0 1 1 1 0 0 0 0 0 0 0 0 0 0 1 1 0\n",
            " 0 0 0 0 0 1 0 1 0 1 0 0 0 0 0 0 0 0 0 0 0 0 1 0 0 0 0 0 0 0 1 0 1 0 0 1 0\n",
            " 0 0 0 0 0 0 0 0 0 0 0 1 1 0 1 0 0 0 0 1 0 1 0 0 0 0 0 0 0 0 0 0 1 0 0 0 0\n",
            " 0 0 0 0 0 0 0 1 0 0 0 1 0 0 0 0 0 0 0 0 0 0 0 0 1 0 0 0 0 0 0 0 0 0 0 1 0\n",
            " 0 1 0 0 1 0 0 1 0 0 1 1 1 0 1 0 0 0 0 0 0 0 0 0 1 0 0 0 1 1 0 0 0 0 1 0 1\n",
            " 0 1 0 0 0 0 0 0 0 0 0 0 0 0 0 0 0 0 0 0 0 0 0 0 0 0 1 1 0 2 0 0 0 0 0 0 0\n",
            " 0 0 0 0 0 0 0 0 0 0 0 0 0 0 0 1 0 0 0 0 0 0 0 1 0 0 0 0 0 1 0 0 0 1 1 0 0\n",
            " 0 0 0 0 0 0 0 0 0 0 0 0 0 0 1 0 1 0 0 0 0 0 0 2 0 1 0 0 0 0]\n"
          ]
        },
        {
          "name": "stderr",
          "output_type": "stream",
          "text": [
            "/usr/local/lib/python3.7/dist-packages/sklearn/base.py:444: UserWarning: X has feature names, but DecisionTreeClassifier was fitted without feature names\n",
            "  f\"X has feature names, but {self.__class__.__name__} was fitted without\"\n"
          ]
        }
      ],
      "source": [
        "#Predicted flood chances\n",
        "y_pred = dtc_clf.predict(x_test)\n",
        "print(y_pred)"
      ]
    },
    {
      "cell_type": "code",
      "execution_count": 77,
      "metadata": {
        "colab": {
          "base_uri": "https://localhost:8080/"
        },
        "id": "2pxX5O4Y4S5Q",
        "outputId": "42b4aabb-da49-48ad-d2b0-a4bf9ac13a0c"
      },
      "outputs": [
        {
          "name": "stdout",
          "output_type": "stream",
          "text": [
            "actual values:\n",
            "[0 0 1 0 0 1 0 0 0 1 0 0 0 0 0 0 0 1 1 0 0 0 0 0 0 0 0 0 0 0 0 0 0 0 2 1 0\n",
            " 0 0 0 0 0 0 0 0 0 0 0 0 0 0 0 0 0 0 1 0 0 0 1 1 0 0 0 0 0 0 0 0 0 0 0 0 0\n",
            " 0 0 0 0 0 0 0 0 0 1 0 0 0 0 0 1 0 0 1 0 1 0 0 0 0 1 0 0 0 1 0 0 0 0 0 0 0\n",
            " 0 0 0 0 0 0 0 1 0 0 0 0 0 1 0 0 0 0 0 1 0 0 0 0 0 0 0 0 0 0 0 0 0 0 0 0 0\n",
            " 0 0 0 0 0 0 1 0 0 0 0 0 0 0 0 0 0 0 0 0 0 0 0 1 0 0 1 0 0 0 0 0 0 0 1 0 0\n",
            " 0 0 0 1 0 0 0 1 0 0 0 0 0 0 1 0 0 0 1 1 0 1 0 0 0 0 0 0 0 0 0 0 0 0 1 0 0\n",
            " 0 0 0 0 0 1 0 0 1 0 0 1 1 0 0 0 1 1 0 0 0 0 0 1 0 0 0 0 0 0 0 0 0 0 0 0 0\n",
            " 0 0 0 0 0 0 0 1 0 0 0 0 0 0 0 0 1 0 0 0 1 0 1 1 0 0 0 0 0 0 1 1 0 0 0 1 0\n",
            " 0 0 1 0 0 0 0 0 1 0 0 0 0 0 0 0 0 0 0 1 0 1 1 1 0 0 0 0 0 0 0 0 0 0 1 1 0\n",
            " 0 0 0 0 0 1 0 1 0 1 0 0 0 0 0 0 0 0 0 0 0 0 1 0 0 0 0 0 0 0 0 0 1 0 0 1 0\n",
            " 0 0 1 0 0 0 0 0 0 0 0 1 1 0 1 0 0 0 0 1 0 1 0 0 0 0 0 0 0 0 0 0 1 0 0 0 0\n",
            " 0 0 0 0 0 0 0 1 0 0 0 0 0 0 0 0 0 0 0 0 0 0 0 0 1 0 0 1 0 0 0 0 0 0 0 1 0\n",
            " 0 1 0 0 1 0 0 1 0 0 1 1 1 0 1 0 0 0 0 0 0 0 0 0 1 0 0 0 1 1 0 0 0 0 1 0 1\n",
            " 0 1 0 0 0 0 0 0 0 0 0 0 0 0 0 0 0 0 0 0 0 0 0 0 0 0 1 1 0 2 0 0 0 0 0 0 0\n",
            " 0 0 0 0 0 0 0 0 0 0 0 0 0 0 0 0 0 0 0 0 0 0 0 1 0 0 0 0 0 1 0 0 0 1 0 0 0\n",
            " 0 0 0 0 0 0 0 0 0 0 0 0 0 0 1 0 1 0 0 0 0 0 0 2 0 1 0 0 0 0]\n"
          ]
        }
      ],
      "source": [
        "#Actual flood chances\n",
        "print(\"actual values:\")\n",
        "print(y_test.values)"
      ]
    },
    {
      "cell_type": "code",
      "execution_count": 78,
      "metadata": {
        "colab": {
          "base_uri": "https://localhost:8080/"
        },
        "id": "zJ-RJnD_4V0d",
        "outputId": "39bccda9-2072-418b-eb48-4ce46926a74d"
      },
      "outputs": [
        {
          "name": "stdout",
          "output_type": "stream",
          "text": [
            "\n",
            "accuracy score:97.606838\n",
            "recall score:97.606838\n"
          ]
        }
      ],
      "source": [
        "from sklearn.metrics import accuracy_score,recall_score,roc_auc_score,confusion_matrix\n",
        "print(\"\\naccuracy score:%f\"%(accuracy_score(y_test,y_pred)*100))\n",
        "print(\"recall score:%f\"%(recall_score(y_test,y_pred,average='micro')*100))\n",
        "#print(\"roc score:%f\"%(roc_auc_score(y_test,y_pred,average='micro')*100))"
      ]
    },
    {
      "cell_type": "code",
      "execution_count": 79,
      "metadata": {
        "colab": {
          "base_uri": "https://localhost:8080/"
        },
        "id": "ddBkoPSN-YSC",
        "outputId": "0a29c196-3bf6-4b15-c1fc-8b0a1f50c65b"
      },
      "outputs": [
        {
          "name": "stdout",
          "output_type": "stream",
          "text": [
            "Confusion Matrix: \n",
            " [[483   9   0]\n",
            " [  5  85   0]\n",
            " [  0   0   3]]\n",
            "              precision    recall  f1-score   support\n",
            "\n",
            "           0       0.99      0.98      0.99       492\n",
            "           1       0.90      0.94      0.92        90\n",
            "           2       1.00      1.00      1.00         3\n",
            "\n",
            "    accuracy                           0.98       585\n",
            "   macro avg       0.96      0.98      0.97       585\n",
            "weighted avg       0.98      0.98      0.98       585\n",
            "\n"
          ]
        }
      ],
      "source": [
        "cm=confusion_matrix(y_test,y_pred)\n",
        "print('Confusion Matrix: \\n', cm)\n",
        "print(metrics.classification_report(y_test, y_pred))"
      ]
    },
    {
      "cell_type": "code",
      "execution_count": 80,
      "metadata": {
        "colab": {
          "base_uri": "https://localhost:8080/",
          "height": 297
        },
        "id": "LOmNgdXYEht4",
        "outputId": "16cd680a-3d96-4cbe-e660-a7046cc9375d"
      },
      "outputs": [
        {
          "data": {
            "image/png": "[encoded data removed]",
            "text/plain": [
              "<Figure size 432x288 with 1 Axes>"
            ]
          },
          "metadata": {
            "needs_background": "light"
          },
          "output_type": "display_data"
        }
      ],
      "source": [
        "sns.scatterplot(x='ketinggian', y='intensitas', data=df, hue='kategori')\n",
        "plt.tight_layout()"
      ]
    },
    {
      "cell_type": "code",
      "execution_count": 81,
      "metadata": {
        "colab": {
          "base_uri": "https://localhost:8080/",
          "height": 1000
        },
        "id": "md9U4gBSCOkM",
        "outputId": "d05d7f4d-6893-4eef-d21e-89a05d35eac5"
      },
      "outputs": [
        {
          "data": {
            "image/svg+xml": "<?xml version=\"1.0\" encoding=\"UTF-8\" standalone=\"no\"?>\n<!DOCTYPE svg PUBLIC \"-//W3C//DTD SVG 1.1//EN\"\n \"http://www.w3.org/Graphics/SVG/1.1/DTD/svg11.dtd\">\n<!-- Generated by graphviz version 2.40.1 (20161225.0304)\n -->\n<!-- Title: Tree Pages: 1 -->\n<svg width=\"1097pt\" height=\"1413pt\"\n viewBox=\"0.00 0.00 1097.00 1413.00\" xmlns=\"http://www.w3.org/2000/svg\" xmlns:xlink=\"http://www.w3.org/1999/xlink\">\n<g id=\"graph0\" class=\"graph\" transform=\"scale(1 1) rotate(0) translate(4 1409)\">\n<title>Tree</title>\n<polygon fill=\"#ffffff\" stroke=\"transparent\" points=\"-4,4 -4,-1409 1093,-1409 1093,4 -4,4\"/>\n<!-- 0 -->\n<g id=\"node1\" class=\"node\">\n<title>0</title>\n<path fill=\"#eb9e67\" stroke=\"#000000\" d=\"M642.5,-1405C642.5,-1405 518.5,-1405 518.5,-1405 512.5,-1405 506.5,-1399 506.5,-1393 506.5,-1393 506.5,-1349 506.5,-1349 506.5,-1343 512.5,-1337 518.5,-1337 518.5,-1337 642.5,-1337 642.5,-1337 648.5,-1337 654.5,-1343 654.5,-1349 654.5,-1349 654.5,-1393 654.5,-1393 654.5,-1399 648.5,-1405 642.5,-1405\"/>\n<text text-anchor=\"middle\" x=\"580.5\" y=\"-1389.8\" font-family=\"Helvetica,sans-Serif\" font-size=\"14.00\" fill=\"#000000\">ketinggian &lt;= 5.005</text>\n<text text-anchor=\"middle\" x=\"580.5\" y=\"-1374.8\" font-family=\"Helvetica,sans-Serif\" font-size=\"14.00\" fill=\"#000000\">gini = 0.311</text>\n<text text-anchor=\"middle\" x=\"580.5\" y=\"-1359.8\" font-family=\"Helvetica,sans-Serif\" font-size=\"14.00\" fill=\"#000000\">samples = 876</text>\n<text text-anchor=\"middle\" x=\"580.5\" y=\"-1344.8\" font-family=\"Helvetica,sans-Serif\" font-size=\"14.00\" fill=\"#000000\">value = [710, 157, 9]</text>\n</g>\n<!-- 1 -->\n<g id=\"node2\" class=\"node\">\n<title>1</title>\n<path fill=\"#e58139\" stroke=\"#000000\" d=\"M557,-1293.5C557,-1293.5 450,-1293.5 450,-1293.5 444,-1293.5 438,-1287.5 438,-1281.5 438,-1281.5 438,-1252.5 438,-1252.5 438,-1246.5 444,-1240.5 450,-1240.5 450,-1240.5 557,-1240.5 557,-1240.5 563,-1240.5 569,-1246.5 569,-1252.5 569,-1252.5 569,-1281.5 569,-1281.5 569,-1287.5 563,-1293.5 557,-1293.5\"/>\n<text text-anchor=\"middle\" x=\"503.5\" y=\"-1278.3\" font-family=\"Helvetica,sans-Serif\" font-size=\"14.00\" fill=\"#000000\">gini = 0.0</text>\n<text text-anchor=\"middle\" x=\"503.5\" y=\"-1263.3\" font-family=\"Helvetica,sans-Serif\" font-size=\"14.00\" fill=\"#000000\">samples = 638</text>\n<text text-anchor=\"middle\" x=\"503.5\" y=\"-1248.3\" font-family=\"Helvetica,sans-Serif\" font-size=\"14.00\" fill=\"#000000\">value = [638, 0, 0]</text>\n</g>\n<!-- 0&#45;&gt;1 -->\n<g id=\"edge1\" class=\"edge\">\n<title>0&#45;&gt;1</title>\n<path fill=\"none\" stroke=\"#000000\" d=\"M555.2873,-1336.9465C546.9689,-1325.7113 537.7073,-1313.2021 529.3426,-1301.9043\"/>\n<polygon fill=\"#000000\" stroke=\"#000000\" points=\"531.9148,-1299.4965 523.1514,-1293.5422 526.2889,-1303.6618 531.9148,-1299.4965\"/>\n<text text-anchor=\"middle\" x=\"519.4629\" y=\"-1314.5686\" font-family=\"Helvetica,sans-Serif\" font-size=\"14.00\" fill=\"#000000\">True</text>\n</g>\n<!-- 2 -->\n<g id=\"node3\" class=\"node\">\n<title>2</title>\n<path fill=\"#9af2be\" stroke=\"#000000\" d=\"M715.5,-1301C715.5,-1301 599.5,-1301 599.5,-1301 593.5,-1301 587.5,-1295 587.5,-1289 587.5,-1289 587.5,-1245 587.5,-1245 587.5,-1239 593.5,-1233 599.5,-1233 599.5,-1233 715.5,-1233 715.5,-1233 721.5,-1233 727.5,-1239 727.5,-1245 727.5,-1245 727.5,-1289 727.5,-1289 727.5,-1295 721.5,-1301 715.5,-1301\"/>\n<text text-anchor=\"middle\" x=\"657.5\" y=\"-1285.8\" font-family=\"Helvetica,sans-Serif\" font-size=\"14.00\" fill=\"#000000\">ketinggian &lt;= 6.01</text>\n<text text-anchor=\"middle\" x=\"657.5\" y=\"-1270.8\" font-family=\"Helvetica,sans-Serif\" font-size=\"14.00\" fill=\"#000000\">gini = 0.472</text>\n<text text-anchor=\"middle\" x=\"657.5\" y=\"-1255.8\" font-family=\"Helvetica,sans-Serif\" font-size=\"14.00\" fill=\"#000000\">samples = 238</text>\n<text text-anchor=\"middle\" x=\"657.5\" y=\"-1240.8\" font-family=\"Helvetica,sans-Serif\" font-size=\"14.00\" fill=\"#000000\">value = [72, 157, 9]</text>\n</g>\n<!-- 0&#45;&gt;2 -->\n<g id=\"edge2\" class=\"edge\">\n<title>0&#45;&gt;2</title>\n<path fill=\"none\" stroke=\"#000000\" d=\"M605.7127,-1336.9465C612.2273,-1328.1475 619.3205,-1318.5672 626.1082,-1309.3993\"/>\n<polygon fill=\"#000000\" stroke=\"#000000\" points=\"629.0931,-1311.2496 632.2307,-1301.13 623.4673,-1307.0843 629.0931,-1311.2496\"/>\n<text text-anchor=\"middle\" x=\"635.9191\" y=\"-1322.1564\" font-family=\"Helvetica,sans-Serif\" font-size=\"14.00\" fill=\"#000000\">False</text>\n</g>\n<!-- 3 -->\n<g id=\"node4\" class=\"node\">\n<title>3</title>\n<path fill=\"#5ae996\" stroke=\"#000000\" d=\"M638.5,-1197C638.5,-1197 522.5,-1197 522.5,-1197 516.5,-1197 510.5,-1191 510.5,-1185 510.5,-1185 510.5,-1141 510.5,-1141 510.5,-1135 516.5,-1129 522.5,-1129 522.5,-1129 638.5,-1129 638.5,-1129 644.5,-1129 650.5,-1135 650.5,-1141 650.5,-1141 650.5,-1185 650.5,-1185 650.5,-1191 644.5,-1197 638.5,-1197\"/>\n<text text-anchor=\"middle\" x=\"580.5\" y=\"-1181.8\" font-family=\"Helvetica,sans-Serif\" font-size=\"14.00\" fill=\"#000000\">intensitas &lt;= 0.25</text>\n<text text-anchor=\"middle\" x=\"580.5\" y=\"-1166.8\" font-family=\"Helvetica,sans-Serif\" font-size=\"14.00\" fill=\"#000000\">gini = 0.244</text>\n<text text-anchor=\"middle\" x=\"580.5\" y=\"-1151.8\" font-family=\"Helvetica,sans-Serif\" font-size=\"14.00\" fill=\"#000000\">samples = 183</text>\n<text text-anchor=\"middle\" x=\"580.5\" y=\"-1136.8\" font-family=\"Helvetica,sans-Serif\" font-size=\"14.00\" fill=\"#000000\">value = [26, 157, 0]</text>\n</g>\n<!-- 2&#45;&gt;3 -->\n<g id=\"edge3\" class=\"edge\">\n<title>2&#45;&gt;3</title>\n<path fill=\"none\" stroke=\"#000000\" d=\"M632.2873,-1232.9465C625.7727,-1224.1475 618.6795,-1214.5672 611.8918,-1205.3993\"/>\n<polygon fill=\"#000000\" stroke=\"#000000\" points=\"614.5327,-1203.0843 605.7693,-1197.13 608.9069,-1207.2496 614.5327,-1203.0843\"/>\n</g>\n<!-- 48 -->\n<g id=\"node49\" class=\"node\">\n<title>48</title>\n<path fill=\"#ea9a60\" stroke=\"#000000\" d=\"M788,-1197C788,-1197 681,-1197 681,-1197 675,-1197 669,-1191 669,-1185 669,-1185 669,-1141 669,-1141 669,-1135 675,-1129 681,-1129 681,-1129 788,-1129 788,-1129 794,-1129 800,-1135 800,-1141 800,-1141 800,-1185 800,-1185 800,-1191 794,-1197 788,-1197\"/>\n<text text-anchor=\"middle\" x=\"734.5\" y=\"-1181.8\" font-family=\"Helvetica,sans-Serif\" font-size=\"14.00\" fill=\"#000000\">intensitas &lt;= 49.5</text>\n<text text-anchor=\"middle\" x=\"734.5\" y=\"-1166.8\" font-family=\"Helvetica,sans-Serif\" font-size=\"14.00\" fill=\"#000000\">gini = 0.274</text>\n<text text-anchor=\"middle\" x=\"734.5\" y=\"-1151.8\" font-family=\"Helvetica,sans-Serif\" font-size=\"14.00\" fill=\"#000000\">samples = 55</text>\n<text text-anchor=\"middle\" x=\"734.5\" y=\"-1136.8\" font-family=\"Helvetica,sans-Serif\" font-size=\"14.00\" fill=\"#000000\">value = [46, 0, 9]</text>\n</g>\n<!-- 2&#45;&gt;48 -->\n<g id=\"edge48\" class=\"edge\">\n<title>2&#45;&gt;48</title>\n<path fill=\"none\" stroke=\"#000000\" d=\"M682.7127,-1232.9465C689.2273,-1224.1475 696.3205,-1214.5672 703.1082,-1205.3993\"/>\n<polygon fill=\"#000000\" stroke=\"#000000\" points=\"706.0931,-1207.2496 709.2307,-1197.13 700.4673,-1203.0843 706.0931,-1207.2496\"/>\n</g>\n<!-- 4 -->\n<g id=\"node5\" class=\"node\">\n<title>4</title>\n<path fill=\"#f4caab\" stroke=\"#000000\" d=\"M487.5,-1093C487.5,-1093 367.5,-1093 367.5,-1093 361.5,-1093 355.5,-1087 355.5,-1081 355.5,-1081 355.5,-1037 355.5,-1037 355.5,-1031 361.5,-1025 367.5,-1025 367.5,-1025 487.5,-1025 487.5,-1025 493.5,-1025 499.5,-1031 499.5,-1037 499.5,-1037 499.5,-1081 499.5,-1081 499.5,-1087 493.5,-1093 487.5,-1093\"/>\n<text text-anchor=\"middle\" x=\"427.5\" y=\"-1077.8\" font-family=\"Helvetica,sans-Serif\" font-size=\"14.00\" fill=\"#000000\">ketinggian &lt;= 5.165</text>\n<text text-anchor=\"middle\" x=\"427.5\" y=\"-1062.8\" font-family=\"Helvetica,sans-Serif\" font-size=\"14.00\" fill=\"#000000\">gini = 0.464</text>\n<text text-anchor=\"middle\" x=\"427.5\" y=\"-1047.8\" font-family=\"Helvetica,sans-Serif\" font-size=\"14.00\" fill=\"#000000\">samples = 41</text>\n<text text-anchor=\"middle\" x=\"427.5\" y=\"-1032.8\" font-family=\"Helvetica,sans-Serif\" font-size=\"14.00\" fill=\"#000000\">value = [26, 15, 0]</text>\n</g>\n<!-- 3&#45;&gt;4 -->\n<g id=\"edge4\" class=\"edge\">\n<title>3&#45;&gt;4</title>\n<path fill=\"none\" stroke=\"#000000\" d=\"M530.4021,-1128.9465C516.2687,-1119.3395 500.7648,-1108.8009 486.1767,-1098.8848\"/>\n<polygon fill=\"#000000\" stroke=\"#000000\" points=\"487.9483,-1095.8571 477.7105,-1093.13 484.0132,-1101.6463 487.9483,-1095.8571\"/>\n</g>\n<!-- 47 -->\n<g id=\"node48\" class=\"node\">\n<title>47</title>\n<path fill=\"#39e581\" stroke=\"#000000\" d=\"M637,-1085.5C637,-1085.5 530,-1085.5 530,-1085.5 524,-1085.5 518,-1079.5 518,-1073.5 518,-1073.5 518,-1044.5 518,-1044.5 518,-1038.5 524,-1032.5 530,-1032.5 530,-1032.5 637,-1032.5 637,-1032.5 643,-1032.5 649,-1038.5 649,-1044.5 649,-1044.5 649,-1073.5 649,-1073.5 649,-1079.5 643,-1085.5 637,-1085.5\"/>\n<text text-anchor=\"middle\" x=\"583.5\" y=\"-1070.3\" font-family=\"Helvetica,sans-Serif\" font-size=\"14.00\" fill=\"#000000\">gini = 0.0</text>\n<text text-anchor=\"middle\" x=\"583.5\" y=\"-1055.3\" font-family=\"Helvetica,sans-Serif\" font-size=\"14.00\" fill=\"#000000\">samples = 142</text>\n<text text-anchor=\"middle\" x=\"583.5\" y=\"-1040.3\" font-family=\"Helvetica,sans-Serif\" font-size=\"14.00\" fill=\"#000000\">value = [0, 142, 0]</text>\n</g>\n<!-- 3&#45;&gt;47 -->\n<g id=\"edge47\" class=\"edge\">\n<title>3&#45;&gt;47</title>\n<path fill=\"none\" stroke=\"#000000\" d=\"M581.4823,-1128.9465C581.7905,-1118.2621 582.132,-1106.4254 582.445,-1095.5742\"/>\n<polygon fill=\"#000000\" stroke=\"#000000\" points=\"585.9445,-1095.639 582.7344,-1085.5422 578.9474,-1095.4371 585.9445,-1095.639\"/>\n</g>\n<!-- 5 -->\n<g id=\"node6\" class=\"node\">\n<title>5</title>\n<path fill=\"#e9965a\" stroke=\"#000000\" d=\"M408.5,-989C408.5,-989 288.5,-989 288.5,-989 282.5,-989 276.5,-983 276.5,-977 276.5,-977 276.5,-933 276.5,-933 276.5,-927 282.5,-921 288.5,-921 288.5,-921 408.5,-921 408.5,-921 414.5,-921 420.5,-927 420.5,-933 420.5,-933 420.5,-977 420.5,-977 420.5,-983 414.5,-989 408.5,-989\"/>\n<text text-anchor=\"middle\" x=\"348.5\" y=\"-973.8\" font-family=\"Helvetica,sans-Serif\" font-size=\"14.00\" fill=\"#000000\">ketinggian &lt;= 5.045</text>\n<text text-anchor=\"middle\" x=\"348.5\" y=\"-958.8\" font-family=\"Helvetica,sans-Serif\" font-size=\"14.00\" fill=\"#000000\">gini = 0.245</text>\n<text text-anchor=\"middle\" x=\"348.5\" y=\"-943.8\" font-family=\"Helvetica,sans-Serif\" font-size=\"14.00\" fill=\"#000000\">samples = 14</text>\n<text text-anchor=\"middle\" x=\"348.5\" y=\"-928.8\" font-family=\"Helvetica,sans-Serif\" font-size=\"14.00\" fill=\"#000000\">value = [12, 2, 0]</text>\n</g>\n<!-- 4&#45;&gt;5 -->\n<g id=\"edge5\" class=\"edge\">\n<title>4&#45;&gt;5</title>\n<path fill=\"none\" stroke=\"#000000\" d=\"M401.6324,-1024.9465C394.8804,-1016.0578 387.5226,-1006.3716 380.4941,-997.1188\"/>\n<polygon fill=\"#000000\" stroke=\"#000000\" points=\"383.2617,-994.976 374.4257,-989.13 377.6875,-999.2102 383.2617,-994.976\"/>\n</g>\n<!-- 14 -->\n<g id=\"node15\" class=\"node\">\n<title>14</title>\n<path fill=\"#fdf6f1\" stroke=\"#000000\" d=\"M562.5,-989C562.5,-989 450.5,-989 450.5,-989 444.5,-989 438.5,-983 438.5,-977 438.5,-977 438.5,-933 438.5,-933 438.5,-927 444.5,-921 450.5,-921 450.5,-921 562.5,-921 562.5,-921 568.5,-921 574.5,-927 574.5,-933 574.5,-933 574.5,-977 574.5,-977 574.5,-983 568.5,-989 562.5,-989\"/>\n<text text-anchor=\"middle\" x=\"506.5\" y=\"-973.8\" font-family=\"Helvetica,sans-Serif\" font-size=\"14.00\" fill=\"#000000\">ketinggian &lt;= 5.35</text>\n<text text-anchor=\"middle\" x=\"506.5\" y=\"-958.8\" font-family=\"Helvetica,sans-Serif\" font-size=\"14.00\" fill=\"#000000\">gini = 0.499</text>\n<text text-anchor=\"middle\" x=\"506.5\" y=\"-943.8\" font-family=\"Helvetica,sans-Serif\" font-size=\"14.00\" fill=\"#000000\">samples = 27</text>\n<text text-anchor=\"middle\" x=\"506.5\" y=\"-928.8\" font-family=\"Helvetica,sans-Serif\" font-size=\"14.00\" fill=\"#000000\">value = [14, 13, 0]</text>\n</g>\n<!-- 4&#45;&gt;14 -->\n<g id=\"edge14\" class=\"edge\">\n<title>4&#45;&gt;14</title>\n<path fill=\"none\" stroke=\"#000000\" d=\"M453.3676,-1024.9465C460.1196,-1016.0578 467.4774,-1006.3716 474.5059,-997.1188\"/>\n<polygon fill=\"#000000\" stroke=\"#000000\" points=\"477.3125,-999.2102 480.5743,-989.13 471.7383,-994.976 477.3125,-999.2102\"/>\n</g>\n<!-- 6 -->\n<g id=\"node7\" class=\"node\">\n<title>6</title>\n<path fill=\"#f6d5bd\" stroke=\"#000000\" d=\"M262.5,-885C262.5,-885 142.5,-885 142.5,-885 136.5,-885 130.5,-879 130.5,-873 130.5,-873 130.5,-829 130.5,-829 130.5,-823 136.5,-817 142.5,-817 142.5,-817 262.5,-817 262.5,-817 268.5,-817 274.5,-823 274.5,-829 274.5,-829 274.5,-873 274.5,-873 274.5,-879 268.5,-885 262.5,-885\"/>\n<text text-anchor=\"middle\" x=\"202.5\" y=\"-869.8\" font-family=\"Helvetica,sans-Serif\" font-size=\"14.00\" fill=\"#000000\">ketinggian &lt;= 5.015</text>\n<text text-anchor=\"middle\" x=\"202.5\" y=\"-854.8\" font-family=\"Helvetica,sans-Serif\" font-size=\"14.00\" fill=\"#000000\">gini = 0.48</text>\n<text text-anchor=\"middle\" x=\"202.5\" y=\"-839.8\" font-family=\"Helvetica,sans-Serif\" font-size=\"14.00\" fill=\"#000000\">samples = 5</text>\n<text text-anchor=\"middle\" x=\"202.5\" y=\"-824.8\" font-family=\"Helvetica,sans-Serif\" font-size=\"14.00\" fill=\"#000000\">value = [3, 2, 0]</text>\n</g>\n<!-- 5&#45;&gt;6 -->\n<g id=\"edge6\" class=\"edge\">\n<title>5&#45;&gt;6</title>\n<path fill=\"none\" stroke=\"#000000\" d=\"M300.6941,-920.9465C287.3334,-911.4293 272.6893,-900.9978 258.8826,-891.163\"/>\n<polygon fill=\"#000000\" stroke=\"#000000\" points=\"260.5888,-888.0811 250.4133,-885.13 256.5275,-893.7826 260.5888,-888.0811\"/>\n</g>\n<!-- 13 -->\n<g id=\"node14\" class=\"node\">\n<title>13</title>\n<path fill=\"#e58139\" stroke=\"#000000\" d=\"M396,-877.5C396,-877.5 305,-877.5 305,-877.5 299,-877.5 293,-871.5 293,-865.5 293,-865.5 293,-836.5 293,-836.5 293,-830.5 299,-824.5 305,-824.5 305,-824.5 396,-824.5 396,-824.5 402,-824.5 408,-830.5 408,-836.5 408,-836.5 408,-865.5 408,-865.5 408,-871.5 402,-877.5 396,-877.5\"/>\n<text text-anchor=\"middle\" x=\"350.5\" y=\"-862.3\" font-family=\"Helvetica,sans-Serif\" font-size=\"14.00\" fill=\"#000000\">gini = 0.0</text>\n<text text-anchor=\"middle\" x=\"350.5\" y=\"-847.3\" font-family=\"Helvetica,sans-Serif\" font-size=\"14.00\" fill=\"#000000\">samples = 9</text>\n<text text-anchor=\"middle\" x=\"350.5\" y=\"-832.3\" font-family=\"Helvetica,sans-Serif\" font-size=\"14.00\" fill=\"#000000\">value = [9, 0, 0]</text>\n</g>\n<!-- 5&#45;&gt;13 -->\n<g id=\"edge13\" class=\"edge\">\n<title>5&#45;&gt;13</title>\n<path fill=\"none\" stroke=\"#000000\" d=\"M349.1549,-920.9465C349.3603,-910.2621 349.588,-898.4254 349.7966,-887.5742\"/>\n<polygon fill=\"#000000\" stroke=\"#000000\" points=\"353.2966,-887.6076 349.9896,-877.5422 346.2979,-887.473 353.2966,-887.6076\"/>\n</g>\n<!-- 7 -->\n<g id=\"node8\" class=\"node\">\n<title>7</title>\n<path fill=\"#e58139\" stroke=\"#000000\" d=\"M103,-773.5C103,-773.5 12,-773.5 12,-773.5 6,-773.5 0,-767.5 0,-761.5 0,-761.5 0,-732.5 0,-732.5 0,-726.5 6,-720.5 12,-720.5 12,-720.5 103,-720.5 103,-720.5 109,-720.5 115,-726.5 115,-732.5 115,-732.5 115,-761.5 115,-761.5 115,-767.5 109,-773.5 103,-773.5\"/>\n<text text-anchor=\"middle\" x=\"57.5\" y=\"-758.3\" font-family=\"Helvetica,sans-Serif\" font-size=\"14.00\" fill=\"#000000\">gini = 0.0</text>\n<text text-anchor=\"middle\" x=\"57.5\" y=\"-743.3\" font-family=\"Helvetica,sans-Serif\" font-size=\"14.00\" fill=\"#000000\">samples = 1</text>\n<text text-anchor=\"middle\" x=\"57.5\" y=\"-728.3\" font-family=\"Helvetica,sans-Serif\" font-size=\"14.00\" fill=\"#000000\">value = [1, 0, 0]</text>\n</g>\n<!-- 6&#45;&gt;7 -->\n<g id=\"edge7\" class=\"edge\">\n<title>6&#45;&gt;7</title>\n<path fill=\"none\" stroke=\"#000000\" d=\"M155.0216,-816.9465C138.2821,-804.9403 119.5142,-791.4791 102.9467,-779.5962\"/>\n<polygon fill=\"#000000\" stroke=\"#000000\" points=\"104.6718,-776.5264 94.5059,-773.5422 100.592,-782.2146 104.6718,-776.5264\"/>\n</g>\n<!-- 8 -->\n<g id=\"node9\" class=\"node\">\n<title>8</title>\n<path fill=\"#ffffff\" stroke=\"#000000\" d=\"M265.5,-781C265.5,-781 145.5,-781 145.5,-781 139.5,-781 133.5,-775 133.5,-769 133.5,-769 133.5,-725 133.5,-725 133.5,-719 139.5,-713 145.5,-713 145.5,-713 265.5,-713 265.5,-713 271.5,-713 277.5,-719 277.5,-725 277.5,-725 277.5,-769 277.5,-769 277.5,-775 271.5,-781 265.5,-781\"/>\n<text text-anchor=\"middle\" x=\"205.5\" y=\"-765.8\" font-family=\"Helvetica,sans-Serif\" font-size=\"14.00\" fill=\"#000000\">ketinggian &lt;= 5.025</text>\n<text text-anchor=\"middle\" x=\"205.5\" y=\"-750.8\" font-family=\"Helvetica,sans-Serif\" font-size=\"14.00\" fill=\"#000000\">gini = 0.5</text>\n<text text-anchor=\"middle\" x=\"205.5\" y=\"-735.8\" font-family=\"Helvetica,sans-Serif\" font-size=\"14.00\" fill=\"#000000\">samples = 4</text>\n<text text-anchor=\"middle\" x=\"205.5\" y=\"-720.8\" font-family=\"Helvetica,sans-Serif\" font-size=\"14.00\" fill=\"#000000\">value = [2, 2, 0]</text>\n</g>\n<!-- 6&#45;&gt;8 -->\n<g id=\"edge8\" class=\"edge\">\n<title>6&#45;&gt;8</title>\n<path fill=\"none\" stroke=\"#000000\" d=\"M203.4823,-816.9465C203.718,-808.776 203.9731,-799.9318 204.2201,-791.3697\"/>\n<polygon fill=\"#000000\" stroke=\"#000000\" points=\"207.7256,-791.2268 204.5155,-781.13 200.7285,-791.0249 207.7256,-791.2268\"/>\n</g>\n<!-- 9 -->\n<g id=\"node10\" class=\"node\">\n<title>9</title>\n<path fill=\"#39e581\" stroke=\"#000000\" d=\"M240,-669.5C240,-669.5 149,-669.5 149,-669.5 143,-669.5 137,-663.5 137,-657.5 137,-657.5 137,-628.5 137,-628.5 137,-622.5 143,-616.5 149,-616.5 149,-616.5 240,-616.5 240,-616.5 246,-616.5 252,-622.5 252,-628.5 252,-628.5 252,-657.5 252,-657.5 252,-663.5 246,-669.5 240,-669.5\"/>\n<text text-anchor=\"middle\" x=\"194.5\" y=\"-654.3\" font-family=\"Helvetica,sans-Serif\" font-size=\"14.00\" fill=\"#000000\">gini = 0.0</text>\n<text text-anchor=\"middle\" x=\"194.5\" y=\"-639.3\" font-family=\"Helvetica,sans-Serif\" font-size=\"14.00\" fill=\"#000000\">samples = 1</text>\n<text text-anchor=\"middle\" x=\"194.5\" y=\"-624.3\" font-family=\"Helvetica,sans-Serif\" font-size=\"14.00\" fill=\"#000000\">value = [0, 1, 0]</text>\n</g>\n<!-- 8&#45;&gt;9 -->\n<g id=\"edge9\" class=\"edge\">\n<title>8&#45;&gt;9</title>\n<path fill=\"none\" stroke=\"#000000\" d=\"M201.8982,-712.9465C200.7681,-702.2621 199.5162,-690.4254 198.3684,-679.5742\"/>\n<polygon fill=\"#000000\" stroke=\"#000000\" points=\"201.8398,-679.1185 197.3073,-669.5422 194.8787,-679.8549 201.8398,-679.1185\"/>\n</g>\n<!-- 10 -->\n<g id=\"node11\" class=\"node\">\n<title>10</title>\n<path fill=\"#f2c09c\" stroke=\"#000000\" d=\"M402.5,-677C402.5,-677 282.5,-677 282.5,-677 276.5,-677 270.5,-671 270.5,-665 270.5,-665 270.5,-621 270.5,-621 270.5,-615 276.5,-609 282.5,-609 282.5,-609 402.5,-609 402.5,-609 408.5,-609 414.5,-615 414.5,-621 414.5,-621 414.5,-665 414.5,-665 414.5,-671 408.5,-677 402.5,-677\"/>\n<text text-anchor=\"middle\" x=\"342.5\" y=\"-661.8\" font-family=\"Helvetica,sans-Serif\" font-size=\"14.00\" fill=\"#000000\">ketinggian &lt;= 5.035</text>\n<text text-anchor=\"middle\" x=\"342.5\" y=\"-646.8\" font-family=\"Helvetica,sans-Serif\" font-size=\"14.00\" fill=\"#000000\">gini = 0.444</text>\n<text text-anchor=\"middle\" x=\"342.5\" y=\"-631.8\" font-family=\"Helvetica,sans-Serif\" font-size=\"14.00\" fill=\"#000000\">samples = 3</text>\n<text text-anchor=\"middle\" x=\"342.5\" y=\"-616.8\" font-family=\"Helvetica,sans-Serif\" font-size=\"14.00\" fill=\"#000000\">value = [2, 1, 0]</text>\n</g>\n<!-- 8&#45;&gt;10 -->\n<g id=\"edge10\" class=\"edge\">\n<title>8&#45;&gt;10</title>\n<path fill=\"none\" stroke=\"#000000\" d=\"M250.3589,-712.9465C262.7778,-703.519 276.3783,-693.1946 289.2261,-683.4415\"/>\n<polygon fill=\"#000000\" stroke=\"#000000\" points=\"291.6915,-685.9642 297.5403,-677.13 287.459,-680.3887 291.6915,-685.9642\"/>\n</g>\n<!-- 11 -->\n<g id=\"node12\" class=\"node\">\n<title>11</title>\n<path fill=\"#e58139\" stroke=\"#000000\" d=\"M268,-565.5C268,-565.5 177,-565.5 177,-565.5 171,-565.5 165,-559.5 165,-553.5 165,-553.5 165,-524.5 165,-524.5 165,-518.5 171,-512.5 177,-512.5 177,-512.5 268,-512.5 268,-512.5 274,-512.5 280,-518.5 280,-524.5 280,-524.5 280,-553.5 280,-553.5 280,-559.5 274,-565.5 268,-565.5\"/>\n<text text-anchor=\"middle\" x=\"222.5\" y=\"-550.3\" font-family=\"Helvetica,sans-Serif\" font-size=\"14.00\" fill=\"#000000\">gini = 0.0</text>\n<text text-anchor=\"middle\" x=\"222.5\" y=\"-535.3\" font-family=\"Helvetica,sans-Serif\" font-size=\"14.00\" fill=\"#000000\">samples = 1</text>\n<text text-anchor=\"middle\" x=\"222.5\" y=\"-520.3\" font-family=\"Helvetica,sans-Serif\" font-size=\"14.00\" fill=\"#000000\">value = [1, 0, 0]</text>\n</g>\n<!-- 10&#45;&gt;11 -->\n<g id=\"edge11\" class=\"edge\">\n<title>10&#45;&gt;11</title>\n<path fill=\"none\" stroke=\"#000000\" d=\"M303.2075,-608.9465C289.6083,-597.1606 274.3915,-583.9726 260.8676,-572.2519\"/>\n<polygon fill=\"#000000\" stroke=\"#000000\" points=\"262.9748,-569.4466 253.1256,-565.5422 258.3902,-574.7364 262.9748,-569.4466\"/>\n</g>\n<!-- 12 -->\n<g id=\"node13\" class=\"node\">\n<title>12</title>\n<path fill=\"#ffffff\" stroke=\"#000000\" d=\"M401,-565.5C401,-565.5 310,-565.5 310,-565.5 304,-565.5 298,-559.5 298,-553.5 298,-553.5 298,-524.5 298,-524.5 298,-518.5 304,-512.5 310,-512.5 310,-512.5 401,-512.5 401,-512.5 407,-512.5 413,-518.5 413,-524.5 413,-524.5 413,-553.5 413,-553.5 413,-559.5 407,-565.5 401,-565.5\"/>\n<text text-anchor=\"middle\" x=\"355.5\" y=\"-550.3\" font-family=\"Helvetica,sans-Serif\" font-size=\"14.00\" fill=\"#000000\">gini = 0.5</text>\n<text text-anchor=\"middle\" x=\"355.5\" y=\"-535.3\" font-family=\"Helvetica,sans-Serif\" font-size=\"14.00\" fill=\"#000000\">samples = 2</text>\n<text text-anchor=\"middle\" x=\"355.5\" y=\"-520.3\" font-family=\"Helvetica,sans-Serif\" font-size=\"14.00\" fill=\"#000000\">value = [1, 1, 0]</text>\n</g>\n<!-- 10&#45;&gt;12 -->\n<g id=\"edge12\" class=\"edge\">\n<title>10&#45;&gt;12</title>\n<path fill=\"none\" stroke=\"#000000\" d=\"M346.7567,-608.9465C348.0922,-598.2621 349.5718,-586.4254 350.9282,-575.5742\"/>\n<polygon fill=\"#000000\" stroke=\"#000000\" points=\"354.4148,-575.8991 352.1822,-565.5422 347.4688,-575.0308 354.4148,-575.8991\"/>\n</g>\n<!-- 15 -->\n<g id=\"node16\" class=\"node\">\n<title>15</title>\n<path fill=\"#39e581\" stroke=\"#000000\" d=\"M546,-877.5C546,-877.5 455,-877.5 455,-877.5 449,-877.5 443,-871.5 443,-865.5 443,-865.5 443,-836.5 443,-836.5 443,-830.5 449,-824.5 455,-824.5 455,-824.5 546,-824.5 546,-824.5 552,-824.5 558,-830.5 558,-836.5 558,-836.5 558,-865.5 558,-865.5 558,-871.5 552,-877.5 546,-877.5\"/>\n<text text-anchor=\"middle\" x=\"500.5\" y=\"-862.3\" font-family=\"Helvetica,sans-Serif\" font-size=\"14.00\" fill=\"#000000\">gini = 0.0</text>\n<text text-anchor=\"middle\" x=\"500.5\" y=\"-847.3\" font-family=\"Helvetica,sans-Serif\" font-size=\"14.00\" fill=\"#000000\">samples = 3</text>\n<text text-anchor=\"middle\" x=\"500.5\" y=\"-832.3\" font-family=\"Helvetica,sans-Serif\" font-size=\"14.00\" fill=\"#000000\">value = [0, 3, 0]</text>\n</g>\n<!-- 14&#45;&gt;15 -->\n<g id=\"edge15\" class=\"edge\">\n<title>14&#45;&gt;15</title>\n<path fill=\"none\" stroke=\"#000000\" d=\"M504.5354,-920.9465C503.919,-910.2621 503.2361,-898.4254 502.6101,-887.5742\"/>\n<polygon fill=\"#000000\" stroke=\"#000000\" points=\"506.1015,-887.3239 502.0313,-877.5422 499.1131,-887.7272 506.1015,-887.3239\"/>\n</g>\n<!-- 16 -->\n<g id=\"node17\" class=\"node\">\n<title>16</title>\n<path fill=\"#f8dbc6\" stroke=\"#000000\" d=\"M700.5,-885C700.5,-885 588.5,-885 588.5,-885 582.5,-885 576.5,-879 576.5,-873 576.5,-873 576.5,-829 576.5,-829 576.5,-823 582.5,-817 588.5,-817 588.5,-817 700.5,-817 700.5,-817 706.5,-817 712.5,-823 712.5,-829 712.5,-829 712.5,-873 712.5,-873 712.5,-879 706.5,-885 700.5,-885\"/>\n<text text-anchor=\"middle\" x=\"644.5\" y=\"-869.8\" font-family=\"Helvetica,sans-Serif\" font-size=\"14.00\" fill=\"#000000\">ketinggian &lt;= 5.67</text>\n<text text-anchor=\"middle\" x=\"644.5\" y=\"-854.8\" font-family=\"Helvetica,sans-Serif\" font-size=\"14.00\" fill=\"#000000\">gini = 0.486</text>\n<text text-anchor=\"middle\" x=\"644.5\" y=\"-839.8\" font-family=\"Helvetica,sans-Serif\" font-size=\"14.00\" fill=\"#000000\">samples = 24</text>\n<text text-anchor=\"middle\" x=\"644.5\" y=\"-824.8\" font-family=\"Helvetica,sans-Serif\" font-size=\"14.00\" fill=\"#000000\">value = [14, 10, 0]</text>\n</g>\n<!-- 14&#45;&gt;16 -->\n<g id=\"edge16\" class=\"edge\">\n<title>14&#45;&gt;16</title>\n<path fill=\"none\" stroke=\"#000000\" d=\"M551.6864,-920.9465C564.315,-911.4293 578.1567,-900.9978 591.2068,-891.163\"/>\n<polygon fill=\"#000000\" stroke=\"#000000\" points=\"593.3325,-893.9437 599.2121,-885.13 589.1195,-888.3534 593.3325,-893.9437\"/>\n</g>\n<!-- 17 -->\n<g id=\"node18\" class=\"node\">\n<title>17</title>\n<path fill=\"#efb388\" stroke=\"#000000\" d=\"M698.5,-781C698.5,-781 586.5,-781 586.5,-781 580.5,-781 574.5,-775 574.5,-769 574.5,-769 574.5,-725 574.5,-725 574.5,-719 580.5,-713 586.5,-713 586.5,-713 698.5,-713 698.5,-713 704.5,-713 710.5,-719 710.5,-725 710.5,-725 710.5,-769 710.5,-769 710.5,-775 704.5,-781 698.5,-781\"/>\n<text text-anchor=\"middle\" x=\"642.5\" y=\"-765.8\" font-family=\"Helvetica,sans-Serif\" font-size=\"14.00\" fill=\"#000000\">ketinggian &lt;= 5.37</text>\n<text text-anchor=\"middle\" x=\"642.5\" y=\"-750.8\" font-family=\"Helvetica,sans-Serif\" font-size=\"14.00\" fill=\"#000000\">gini = 0.408</text>\n<text text-anchor=\"middle\" x=\"642.5\" y=\"-735.8\" font-family=\"Helvetica,sans-Serif\" font-size=\"14.00\" fill=\"#000000\">samples = 14</text>\n<text text-anchor=\"middle\" x=\"642.5\" y=\"-720.8\" font-family=\"Helvetica,sans-Serif\" font-size=\"14.00\" fill=\"#000000\">value = [10, 4, 0]</text>\n</g>\n<!-- 16&#45;&gt;17 -->\n<g id=\"edge17\" class=\"edge\">\n<title>16&#45;&gt;17</title>\n<path fill=\"none\" stroke=\"#000000\" d=\"M643.8451,-816.9465C643.688,-808.776 643.5179,-799.9318 643.3533,-791.3697\"/>\n<polygon fill=\"#000000\" stroke=\"#000000\" points=\"646.8481,-791.0608 643.1563,-781.13 639.8494,-791.1955 646.8481,-791.0608\"/>\n</g>\n<!-- 32 -->\n<g id=\"node33\" class=\"node\">\n<title>32</title>\n<path fill=\"#bdf6d5\" stroke=\"#000000\" d=\"M860.5,-781C860.5,-781 740.5,-781 740.5,-781 734.5,-781 728.5,-775 728.5,-769 728.5,-769 728.5,-725 728.5,-725 728.5,-719 734.5,-713 740.5,-713 740.5,-713 860.5,-713 860.5,-713 866.5,-713 872.5,-719 872.5,-725 872.5,-725 872.5,-769 872.5,-769 872.5,-775 866.5,-781 860.5,-781\"/>\n<text text-anchor=\"middle\" x=\"800.5\" y=\"-765.8\" font-family=\"Helvetica,sans-Serif\" font-size=\"14.00\" fill=\"#000000\">ketinggian &lt;= 5.755</text>\n<text text-anchor=\"middle\" x=\"800.5\" y=\"-750.8\" font-family=\"Helvetica,sans-Serif\" font-size=\"14.00\" fill=\"#000000\">gini = 0.48</text>\n<text text-anchor=\"middle\" x=\"800.5\" y=\"-735.8\" font-family=\"Helvetica,sans-Serif\" font-size=\"14.00\" fill=\"#000000\">samples = 10</text>\n<text text-anchor=\"middle\" x=\"800.5\" y=\"-720.8\" font-family=\"Helvetica,sans-Serif\" font-size=\"14.00\" fill=\"#000000\">value = [4, 6, 0]</text>\n</g>\n<!-- 16&#45;&gt;32 -->\n<g id=\"edge32\" class=\"edge\">\n<title>16&#45;&gt;32</title>\n<path fill=\"none\" stroke=\"#000000\" d=\"M695.5802,-816.9465C709.9908,-807.3395 725.7986,-796.8009 740.6728,-786.8848\"/>\n<polygon fill=\"#000000\" stroke=\"#000000\" points=\"742.926,-789.5892 749.305,-781.13 739.043,-783.7649 742.926,-789.5892\"/>\n</g>\n<!-- 18 -->\n<g id=\"node19\" class=\"node\">\n<title>18</title>\n<path fill=\"#e58139\" stroke=\"#000000\" d=\"M544,-669.5C544,-669.5 453,-669.5 453,-669.5 447,-669.5 441,-663.5 441,-657.5 441,-657.5 441,-628.5 441,-628.5 441,-622.5 447,-616.5 453,-616.5 453,-616.5 544,-616.5 544,-616.5 550,-616.5 556,-622.5 556,-628.5 556,-628.5 556,-657.5 556,-657.5 556,-663.5 550,-669.5 544,-669.5\"/>\n<text text-anchor=\"middle\" x=\"498.5\" y=\"-654.3\" font-family=\"Helvetica,sans-Serif\" font-size=\"14.00\" fill=\"#000000\">gini = 0.0</text>\n<text text-anchor=\"middle\" x=\"498.5\" y=\"-639.3\" font-family=\"Helvetica,sans-Serif\" font-size=\"14.00\" fill=\"#000000\">samples = 2</text>\n<text text-anchor=\"middle\" x=\"498.5\" y=\"-624.3\" font-family=\"Helvetica,sans-Serif\" font-size=\"14.00\" fill=\"#000000\">value = [2, 0, 0]</text>\n</g>\n<!-- 17&#45;&gt;18 -->\n<g id=\"edge18\" class=\"edge\">\n<title>17&#45;&gt;18</title>\n<path fill=\"none\" stroke=\"#000000\" d=\"M595.349,-712.9465C578.725,-700.9403 560.0865,-687.4791 543.6333,-675.5962\"/>\n<polygon fill=\"#000000\" stroke=\"#000000\" points=\"545.4067,-672.5597 535.2507,-669.5422 541.3083,-678.2345 545.4067,-672.5597\"/>\n</g>\n<!-- 19 -->\n<g id=\"node20\" class=\"node\">\n<title>19</title>\n<path fill=\"#f2c09c\" stroke=\"#000000\" d=\"M706.5,-677C706.5,-677 586.5,-677 586.5,-677 580.5,-677 574.5,-671 574.5,-665 574.5,-665 574.5,-621 574.5,-621 574.5,-615 580.5,-609 586.5,-609 586.5,-609 706.5,-609 706.5,-609 712.5,-609 718.5,-615 718.5,-621 718.5,-621 718.5,-665 718.5,-665 718.5,-671 712.5,-677 706.5,-677\"/>\n<text text-anchor=\"middle\" x=\"646.5\" y=\"-661.8\" font-family=\"Helvetica,sans-Serif\" font-size=\"14.00\" fill=\"#000000\">ketinggian &lt;= 5.385</text>\n<text text-anchor=\"middle\" x=\"646.5\" y=\"-646.8\" font-family=\"Helvetica,sans-Serif\" font-size=\"14.00\" fill=\"#000000\">gini = 0.444</text>\n<text text-anchor=\"middle\" x=\"646.5\" y=\"-631.8\" font-family=\"Helvetica,sans-Serif\" font-size=\"14.00\" fill=\"#000000\">samples = 12</text>\n<text text-anchor=\"middle\" x=\"646.5\" y=\"-616.8\" font-family=\"Helvetica,sans-Serif\" font-size=\"14.00\" fill=\"#000000\">value = [8, 4, 0]</text>\n</g>\n<!-- 17&#45;&gt;19 -->\n<g id=\"edge19\" class=\"edge\">\n<title>17&#45;&gt;19</title>\n<path fill=\"none\" stroke=\"#000000\" d=\"M643.8097,-712.9465C644.124,-704.776 644.4642,-695.9318 644.7935,-687.3697\"/>\n<polygon fill=\"#000000\" stroke=\"#000000\" points=\"648.3003,-687.2572 645.1873,-677.13 641.3055,-686.9881 648.3003,-687.2572\"/>\n</g>\n<!-- 20 -->\n<g id=\"node21\" class=\"node\">\n<title>20</title>\n<path fill=\"#39e581\" stroke=\"#000000\" d=\"M554,-565.5C554,-565.5 463,-565.5 463,-565.5 457,-565.5 451,-559.5 451,-553.5 451,-553.5 451,-524.5 451,-524.5 451,-518.5 457,-512.5 463,-512.5 463,-512.5 554,-512.5 554,-512.5 560,-512.5 566,-518.5 566,-524.5 566,-524.5 566,-553.5 566,-553.5 566,-559.5 560,-565.5 554,-565.5\"/>\n<text text-anchor=\"middle\" x=\"508.5\" y=\"-550.3\" font-family=\"Helvetica,sans-Serif\" font-size=\"14.00\" fill=\"#000000\">gini = 0.0</text>\n<text text-anchor=\"middle\" x=\"508.5\" y=\"-535.3\" font-family=\"Helvetica,sans-Serif\" font-size=\"14.00\" fill=\"#000000\">samples = 1</text>\n<text text-anchor=\"middle\" x=\"508.5\" y=\"-520.3\" font-family=\"Helvetica,sans-Serif\" font-size=\"14.00\" fill=\"#000000\">value = [0, 1, 0]</text>\n</g>\n<!-- 19&#45;&gt;20 -->\n<g id=\"edge20\" class=\"edge\">\n<title>19&#45;&gt;20</title>\n<path fill=\"none\" stroke=\"#000000\" d=\"M601.3136,-608.9465C585.3823,-596.9403 567.5204,-583.4791 551.7527,-571.5962\"/>\n<polygon fill=\"#000000\" stroke=\"#000000\" points=\"553.812,-568.7656 543.7194,-565.5422 549.599,-574.3558 553.812,-568.7656\"/>\n</g>\n<!-- 21 -->\n<g id=\"node22\" class=\"node\">\n<title>21</title>\n<path fill=\"#efb083\" stroke=\"#000000\" d=\"M708.5,-573C708.5,-573 596.5,-573 596.5,-573 590.5,-573 584.5,-567 584.5,-561 584.5,-561 584.5,-517 584.5,-517 584.5,-511 590.5,-505 596.5,-505 596.5,-505 708.5,-505 708.5,-505 714.5,-505 720.5,-511 720.5,-517 720.5,-517 720.5,-561 720.5,-561 720.5,-567 714.5,-573 708.5,-573\"/>\n<text text-anchor=\"middle\" x=\"652.5\" y=\"-557.8\" font-family=\"Helvetica,sans-Serif\" font-size=\"14.00\" fill=\"#000000\">ketinggian &lt;= 5.56</text>\n<text text-anchor=\"middle\" x=\"652.5\" y=\"-542.8\" font-family=\"Helvetica,sans-Serif\" font-size=\"14.00\" fill=\"#000000\">gini = 0.397</text>\n<text text-anchor=\"middle\" x=\"652.5\" y=\"-527.8\" font-family=\"Helvetica,sans-Serif\" font-size=\"14.00\" fill=\"#000000\">samples = 11</text>\n<text text-anchor=\"middle\" x=\"652.5\" y=\"-512.8\" font-family=\"Helvetica,sans-Serif\" font-size=\"14.00\" fill=\"#000000\">value = [8, 3, 0]</text>\n</g>\n<!-- 19&#45;&gt;21 -->\n<g id=\"edge21\" class=\"edge\">\n<title>19&#45;&gt;21</title>\n<path fill=\"none\" stroke=\"#000000\" d=\"M648.4646,-608.9465C648.936,-600.776 649.4462,-591.9318 649.9402,-583.3697\"/>\n<polygon fill=\"#000000\" stroke=\"#000000\" points=\"653.4491,-583.315 650.531,-573.13 646.4607,-582.9118 653.4491,-583.315\"/>\n</g>\n<!-- 22 -->\n<g id=\"node23\" class=\"node\">\n<title>22</title>\n<path fill=\"#f2c09c\" stroke=\"#000000\" d=\"M570.5,-469C570.5,-469 458.5,-469 458.5,-469 452.5,-469 446.5,-463 446.5,-457 446.5,-457 446.5,-413 446.5,-413 446.5,-407 452.5,-401 458.5,-401 458.5,-401 570.5,-401 570.5,-401 576.5,-401 582.5,-407 582.5,-413 582.5,-413 582.5,-457 582.5,-457 582.5,-463 576.5,-469 570.5,-469\"/>\n<text text-anchor=\"middle\" x=\"514.5\" y=\"-453.8\" font-family=\"Helvetica,sans-Serif\" font-size=\"14.00\" fill=\"#000000\">ketinggian &lt;= 5.43</text>\n<text text-anchor=\"middle\" x=\"514.5\" y=\"-438.8\" font-family=\"Helvetica,sans-Serif\" font-size=\"14.00\" fill=\"#000000\">gini = 0.444</text>\n<text text-anchor=\"middle\" x=\"514.5\" y=\"-423.8\" font-family=\"Helvetica,sans-Serif\" font-size=\"14.00\" fill=\"#000000\">samples = 9</text>\n<text text-anchor=\"middle\" x=\"514.5\" y=\"-408.8\" font-family=\"Helvetica,sans-Serif\" font-size=\"14.00\" fill=\"#000000\">value = [6, 3, 0]</text>\n</g>\n<!-- 21&#45;&gt;22 -->\n<g id=\"edge22\" class=\"edge\">\n<title>21&#45;&gt;22</title>\n<path fill=\"none\" stroke=\"#000000\" d=\"M607.3136,-504.9465C594.685,-495.4293 580.8433,-484.9978 567.7932,-475.163\"/>\n<polygon fill=\"#000000\" stroke=\"#000000\" points=\"569.8805,-472.3534 559.7879,-469.13 565.6675,-477.9437 569.8805,-472.3534\"/>\n</g>\n<!-- 31 -->\n<g id=\"node32\" class=\"node\">\n<title>31</title>\n<path fill=\"#e58139\" stroke=\"#000000\" d=\"M704,-461.5C704,-461.5 613,-461.5 613,-461.5 607,-461.5 601,-455.5 601,-449.5 601,-449.5 601,-420.5 601,-420.5 601,-414.5 607,-408.5 613,-408.5 613,-408.5 704,-408.5 704,-408.5 710,-408.5 716,-414.5 716,-420.5 716,-420.5 716,-449.5 716,-449.5 716,-455.5 710,-461.5 704,-461.5\"/>\n<text text-anchor=\"middle\" x=\"658.5\" y=\"-446.3\" font-family=\"Helvetica,sans-Serif\" font-size=\"14.00\" fill=\"#000000\">gini = 0.0</text>\n<text text-anchor=\"middle\" x=\"658.5\" y=\"-431.3\" font-family=\"Helvetica,sans-Serif\" font-size=\"14.00\" fill=\"#000000\">samples = 2</text>\n<text text-anchor=\"middle\" x=\"658.5\" y=\"-416.3\" font-family=\"Helvetica,sans-Serif\" font-size=\"14.00\" fill=\"#000000\">value = [2, 0, 0]</text>\n</g>\n<!-- 21&#45;&gt;31 -->\n<g id=\"edge31\" class=\"edge\">\n<title>21&#45;&gt;31</title>\n<path fill=\"none\" stroke=\"#000000\" d=\"M654.4646,-504.9465C655.081,-494.2621 655.7639,-482.4254 656.3899,-471.5742\"/>\n<polygon fill=\"#000000\" stroke=\"#000000\" points=\"659.8869,-471.7272 656.9687,-461.5422 652.8985,-471.3239 659.8869,-471.7272\"/>\n</g>\n<!-- 23 -->\n<g id=\"node24\" class=\"node\">\n<title>23</title>\n<path fill=\"#ffffff\" stroke=\"#000000\" d=\"M508,-357.5C508,-357.5 417,-357.5 417,-357.5 411,-357.5 405,-351.5 405,-345.5 405,-345.5 405,-316.5 405,-316.5 405,-310.5 411,-304.5 417,-304.5 417,-304.5 508,-304.5 508,-304.5 514,-304.5 520,-310.5 520,-316.5 520,-316.5 520,-345.5 520,-345.5 520,-351.5 514,-357.5 508,-357.5\"/>\n<text text-anchor=\"middle\" x=\"462.5\" y=\"-342.3\" font-family=\"Helvetica,sans-Serif\" font-size=\"14.00\" fill=\"#000000\">gini = 0.5</text>\n<text text-anchor=\"middle\" x=\"462.5\" y=\"-327.3\" font-family=\"Helvetica,sans-Serif\" font-size=\"14.00\" fill=\"#000000\">samples = 2</text>\n<text text-anchor=\"middle\" x=\"462.5\" y=\"-312.3\" font-family=\"Helvetica,sans-Serif\" font-size=\"14.00\" fill=\"#000000\">value = [1, 1, 0]</text>\n</g>\n<!-- 22&#45;&gt;23 -->\n<g id=\"edge23\" class=\"edge\">\n<title>22&#45;&gt;23</title>\n<path fill=\"none\" stroke=\"#000000\" d=\"M497.4733,-400.9465C491.9658,-389.9316 485.8461,-377.6922 480.2851,-366.5703\"/>\n<polygon fill=\"#000000\" stroke=\"#000000\" points=\"483.3738,-364.9212 475.7711,-357.5422 477.1128,-368.0517 483.3738,-364.9212\"/>\n</g>\n<!-- 24 -->\n<g id=\"node25\" class=\"node\">\n<title>24</title>\n<path fill=\"#efb388\" stroke=\"#000000\" d=\"M662.5,-365C662.5,-365 550.5,-365 550.5,-365 544.5,-365 538.5,-359 538.5,-353 538.5,-353 538.5,-309 538.5,-309 538.5,-303 544.5,-297 550.5,-297 550.5,-297 662.5,-297 662.5,-297 668.5,-297 674.5,-303 674.5,-309 674.5,-309 674.5,-353 674.5,-353 674.5,-359 668.5,-365 662.5,-365\"/>\n<text text-anchor=\"middle\" x=\"606.5\" y=\"-349.8\" font-family=\"Helvetica,sans-Serif\" font-size=\"14.00\" fill=\"#000000\">ketinggian &lt;= 5.54</text>\n<text text-anchor=\"middle\" x=\"606.5\" y=\"-334.8\" font-family=\"Helvetica,sans-Serif\" font-size=\"14.00\" fill=\"#000000\">gini = 0.408</text>\n<text text-anchor=\"middle\" x=\"606.5\" y=\"-319.8\" font-family=\"Helvetica,sans-Serif\" font-size=\"14.00\" fill=\"#000000\">samples = 7</text>\n<text text-anchor=\"middle\" x=\"606.5\" y=\"-304.8\" font-family=\"Helvetica,sans-Serif\" font-size=\"14.00\" fill=\"#000000\">value = [5, 2, 0]</text>\n</g>\n<!-- 22&#45;&gt;24 -->\n<g id=\"edge24\" class=\"edge\">\n<title>22&#45;&gt;24</title>\n<path fill=\"none\" stroke=\"#000000\" d=\"M544.6242,-400.9465C552.5668,-391.968 561.2291,-382.1758 569.489,-372.8385\"/>\n<polygon fill=\"#000000\" stroke=\"#000000\" points=\"572.3038,-374.939 576.3081,-365.13 567.0608,-370.301 572.3038,-374.939\"/>\n</g>\n<!-- 25 -->\n<g id=\"node26\" class=\"node\">\n<title>25</title>\n<path fill=\"#eca06a\" stroke=\"#000000\" d=\"M559.5,-261C559.5,-261 447.5,-261 447.5,-261 441.5,-261 435.5,-255 435.5,-249 435.5,-249 435.5,-205 435.5,-205 435.5,-199 441.5,-193 447.5,-193 447.5,-193 559.5,-193 559.5,-193 565.5,-193 571.5,-199 571.5,-205 571.5,-205 571.5,-249 571.5,-249 571.5,-255 565.5,-261 559.5,-261\"/>\n<text text-anchor=\"middle\" x=\"503.5\" y=\"-245.8\" font-family=\"Helvetica,sans-Serif\" font-size=\"14.00\" fill=\"#000000\">ketinggian &lt;= 5.49</text>\n<text text-anchor=\"middle\" x=\"503.5\" y=\"-230.8\" font-family=\"Helvetica,sans-Serif\" font-size=\"14.00\" fill=\"#000000\">gini = 0.32</text>\n<text text-anchor=\"middle\" x=\"503.5\" y=\"-215.8\" font-family=\"Helvetica,sans-Serif\" font-size=\"14.00\" fill=\"#000000\">samples = 5</text>\n<text text-anchor=\"middle\" x=\"503.5\" y=\"-200.8\" font-family=\"Helvetica,sans-Serif\" font-size=\"14.00\" fill=\"#000000\">value = [4, 1, 0]</text>\n</g>\n<!-- 24&#45;&gt;25 -->\n<g id=\"edge25\" class=\"edge\">\n<title>24&#45;&gt;25</title>\n<path fill=\"none\" stroke=\"#000000\" d=\"M572.7739,-296.9465C563.7039,-287.7884 553.7955,-277.7838 544.3819,-268.2788\"/>\n<polygon fill=\"#000000\" stroke=\"#000000\" points=\"546.8255,-265.7723 537.3018,-261.13 541.8519,-270.6981 546.8255,-265.7723\"/>\n</g>\n<!-- 30 -->\n<g id=\"node31\" class=\"node\">\n<title>30</title>\n<path fill=\"#ffffff\" stroke=\"#000000\" d=\"M693,-253.5C693,-253.5 602,-253.5 602,-253.5 596,-253.5 590,-247.5 590,-241.5 590,-241.5 590,-212.5 590,-212.5 590,-206.5 596,-200.5 602,-200.5 602,-200.5 693,-200.5 693,-200.5 699,-200.5 705,-206.5 705,-212.5 705,-212.5 705,-241.5 705,-241.5 705,-247.5 699,-253.5 693,-253.5\"/>\n<text text-anchor=\"middle\" x=\"647.5\" y=\"-238.3\" font-family=\"Helvetica,sans-Serif\" font-size=\"14.00\" fill=\"#000000\">gini = 0.5</text>\n<text text-anchor=\"middle\" x=\"647.5\" y=\"-223.3\" font-family=\"Helvetica,sans-Serif\" font-size=\"14.00\" fill=\"#000000\">samples = 2</text>\n<text text-anchor=\"middle\" x=\"647.5\" y=\"-208.3\" font-family=\"Helvetica,sans-Serif\" font-size=\"14.00\" fill=\"#000000\">value = [1, 1, 0]</text>\n</g>\n<!-- 24&#45;&gt;30 -->\n<g id=\"edge30\" class=\"edge\">\n<title>24&#45;&gt;30</title>\n<path fill=\"none\" stroke=\"#000000\" d=\"M619.9249,-296.9465C624.2239,-286.0418 628.9961,-273.9368 633.3454,-262.9043\"/>\n<polygon fill=\"#000000\" stroke=\"#000000\" points=\"636.6247,-264.129 637.0363,-253.5422 630.1125,-261.5617 636.6247,-264.129\"/>\n</g>\n<!-- 26 -->\n<g id=\"node27\" class=\"node\">\n<title>26</title>\n<path fill=\"#f2c09c\" stroke=\"#000000\" d=\"M495.5,-157C495.5,-157 375.5,-157 375.5,-157 369.5,-157 363.5,-151 363.5,-145 363.5,-145 363.5,-101 363.5,-101 363.5,-95 369.5,-89 375.5,-89 375.5,-89 495.5,-89 495.5,-89 501.5,-89 507.5,-95 507.5,-101 507.5,-101 507.5,-145 507.5,-145 507.5,-151 501.5,-157 495.5,-157\"/>\n<text text-anchor=\"middle\" x=\"435.5\" y=\"-141.8\" font-family=\"Helvetica,sans-Serif\" font-size=\"14.00\" fill=\"#000000\">ketinggian &lt;= 5.475</text>\n<text text-anchor=\"middle\" x=\"435.5\" y=\"-126.8\" font-family=\"Helvetica,sans-Serif\" font-size=\"14.00\" fill=\"#000000\">gini = 0.444</text>\n<text text-anchor=\"middle\" x=\"435.5\" y=\"-111.8\" font-family=\"Helvetica,sans-Serif\" font-size=\"14.00\" fill=\"#000000\">samples = 3</text>\n<text text-anchor=\"middle\" x=\"435.5\" y=\"-96.8\" font-family=\"Helvetica,sans-Serif\" font-size=\"14.00\" fill=\"#000000\">value = [2, 1, 0]</text>\n</g>\n<!-- 25&#45;&gt;26 -->\n<g id=\"edge26\" class=\"edge\">\n<title>25&#45;&gt;26</title>\n<path fill=\"none\" stroke=\"#000000\" d=\"M481.2343,-192.9465C475.5398,-184.2373 469.3448,-174.7626 463.4062,-165.6801\"/>\n<polygon fill=\"#000000\" stroke=\"#000000\" points=\"466.2177,-163.5843 457.8158,-157.13 460.3589,-167.4151 466.2177,-163.5843\"/>\n</g>\n<!-- 29 -->\n<g id=\"node30\" class=\"node\">\n<title>29</title>\n<path fill=\"#e58139\" stroke=\"#000000\" d=\"M629,-149.5C629,-149.5 538,-149.5 538,-149.5 532,-149.5 526,-143.5 526,-137.5 526,-137.5 526,-108.5 526,-108.5 526,-102.5 532,-96.5 538,-96.5 538,-96.5 629,-96.5 629,-96.5 635,-96.5 641,-102.5 641,-108.5 641,-108.5 641,-137.5 641,-137.5 641,-143.5 635,-149.5 629,-149.5\"/>\n<text text-anchor=\"middle\" x=\"583.5\" y=\"-134.3\" font-family=\"Helvetica,sans-Serif\" font-size=\"14.00\" fill=\"#000000\">gini = 0.0</text>\n<text text-anchor=\"middle\" x=\"583.5\" y=\"-119.3\" font-family=\"Helvetica,sans-Serif\" font-size=\"14.00\" fill=\"#000000\">samples = 2</text>\n<text text-anchor=\"middle\" x=\"583.5\" y=\"-104.3\" font-family=\"Helvetica,sans-Serif\" font-size=\"14.00\" fill=\"#000000\">value = [2, 0, 0]</text>\n</g>\n<!-- 25&#45;&gt;29 -->\n<g id=\"edge29\" class=\"edge\">\n<title>25&#45;&gt;29</title>\n<path fill=\"none\" stroke=\"#000000\" d=\"M529.695,-192.9465C538.4222,-181.6012 548.1487,-168.9567 556.9059,-157.5724\"/>\n<polygon fill=\"#000000\" stroke=\"#000000\" points=\"559.76,-159.6024 563.083,-149.5422 554.2116,-155.3344 559.76,-159.6024\"/>\n</g>\n<!-- 27 -->\n<g id=\"node28\" class=\"node\">\n<title>27</title>\n<path fill=\"#e58139\" stroke=\"#000000\" d=\"M426,-53C426,-53 335,-53 335,-53 329,-53 323,-47 323,-41 323,-41 323,-12 323,-12 323,-6 329,0 335,0 335,0 426,0 426,0 432,0 438,-6 438,-12 438,-12 438,-41 438,-41 438,-47 432,-53 426,-53\"/>\n<text text-anchor=\"middle\" x=\"380.5\" y=\"-37.8\" font-family=\"Helvetica,sans-Serif\" font-size=\"14.00\" fill=\"#000000\">gini = 0.0</text>\n<text text-anchor=\"middle\" x=\"380.5\" y=\"-22.8\" font-family=\"Helvetica,sans-Serif\" font-size=\"14.00\" fill=\"#000000\">samples = 1</text>\n<text text-anchor=\"middle\" x=\"380.5\" y=\"-7.8\" font-family=\"Helvetica,sans-Serif\" font-size=\"14.00\" fill=\"#000000\">value = [1, 0, 0]</text>\n</g>\n<!-- 26&#45;&gt;27 -->\n<g id=\"edge27\" class=\"edge\">\n<title>26&#45;&gt;27</title>\n<path fill=\"none\" stroke=\"#000000\" d=\"M416.1091,-88.9777C411.151,-80.2786 405.8067,-70.9018 400.8042,-62.1247\"/>\n<polygon fill=\"#000000\" stroke=\"#000000\" points=\"403.7378,-60.2033 395.7452,-53.2485 397.6562,-63.6696 403.7378,-60.2033\"/>\n</g>\n<!-- 28 -->\n<g id=\"node29\" class=\"node\">\n<title>28</title>\n<path fill=\"#ffffff\" stroke=\"#000000\" d=\"M559,-53C559,-53 468,-53 468,-53 462,-53 456,-47 456,-41 456,-41 456,-12 456,-12 456,-6 462,0 468,0 468,0 559,0 559,0 565,0 571,-6 571,-12 571,-12 571,-41 571,-41 571,-47 565,-53 559,-53\"/>\n<text text-anchor=\"middle\" x=\"513.5\" y=\"-37.8\" font-family=\"Helvetica,sans-Serif\" font-size=\"14.00\" fill=\"#000000\">gini = 0.5</text>\n<text text-anchor=\"middle\" x=\"513.5\" y=\"-22.8\" font-family=\"Helvetica,sans-Serif\" font-size=\"14.00\" fill=\"#000000\">samples = 2</text>\n<text text-anchor=\"middle\" x=\"513.5\" y=\"-7.8\" font-family=\"Helvetica,sans-Serif\" font-size=\"14.00\" fill=\"#000000\">value = [1, 1, 0]</text>\n</g>\n<!-- 26&#45;&gt;28 -->\n<g id=\"edge28\" class=\"edge\">\n<title>26&#45;&gt;28</title>\n<path fill=\"none\" stroke=\"#000000\" d=\"M462.9999,-88.9777C470.2533,-80.0039 478.0897,-70.3089 485.3756,-61.295\"/>\n<polygon fill=\"#000000\" stroke=\"#000000\" points=\"488.3153,-63.2258 491.8795,-53.2485 482.8712,-58.8255 488.3153,-63.2258\"/>\n</g>\n<!-- 33 -->\n<g id=\"node34\" class=\"node\">\n<title>33</title>\n<path fill=\"#39e581\" stroke=\"#000000\" d=\"M844,-669.5C844,-669.5 753,-669.5 753,-669.5 747,-669.5 741,-663.5 741,-657.5 741,-657.5 741,-628.5 741,-628.5 741,-622.5 747,-616.5 753,-616.5 753,-616.5 844,-616.5 844,-616.5 850,-616.5 856,-622.5 856,-628.5 856,-628.5 856,-657.5 856,-657.5 856,-663.5 850,-669.5 844,-669.5\"/>\n<text text-anchor=\"middle\" x=\"798.5\" y=\"-654.3\" font-family=\"Helvetica,sans-Serif\" font-size=\"14.00\" fill=\"#000000\">gini = 0.0</text>\n<text text-anchor=\"middle\" x=\"798.5\" y=\"-639.3\" font-family=\"Helvetica,sans-Serif\" font-size=\"14.00\" fill=\"#000000\">samples = 1</text>\n<text text-anchor=\"middle\" x=\"798.5\" y=\"-624.3\" font-family=\"Helvetica,sans-Serif\" font-size=\"14.00\" fill=\"#000000\">value = [0, 1, 0]</text>\n</g>\n<!-- 32&#45;&gt;33 -->\n<g id=\"edge33\" class=\"edge\">\n<title>32&#45;&gt;33</title>\n<path fill=\"none\" stroke=\"#000000\" d=\"M799.8451,-712.9465C799.6397,-702.2621 799.412,-690.4254 799.2034,-679.5742\"/>\n<polygon fill=\"#000000\" stroke=\"#000000\" points=\"802.7021,-679.473 799.0104,-669.5422 795.7034,-679.6076 802.7021,-679.473\"/>\n</g>\n<!-- 34 -->\n<g id=\"node35\" class=\"node\">\n<title>34</title>\n<path fill=\"#d7fae6\" stroke=\"#000000\" d=\"M1006.5,-677C1006.5,-677 886.5,-677 886.5,-677 880.5,-677 874.5,-671 874.5,-665 874.5,-665 874.5,-621 874.5,-621 874.5,-615 880.5,-609 886.5,-609 886.5,-609 1006.5,-609 1006.5,-609 1012.5,-609 1018.5,-615 1018.5,-621 1018.5,-621 1018.5,-665 1018.5,-665 1018.5,-671 1012.5,-677 1006.5,-677\"/>\n<text text-anchor=\"middle\" x=\"946.5\" y=\"-661.8\" font-family=\"Helvetica,sans-Serif\" font-size=\"14.00\" fill=\"#000000\">ketinggian &lt;= 5.775</text>\n<text text-anchor=\"middle\" x=\"946.5\" y=\"-646.8\" font-family=\"Helvetica,sans-Serif\" font-size=\"14.00\" fill=\"#000000\">gini = 0.494</text>\n<text text-anchor=\"middle\" x=\"946.5\" y=\"-631.8\" font-family=\"Helvetica,sans-Serif\" font-size=\"14.00\" fill=\"#000000\">samples = 9</text>\n<text text-anchor=\"middle\" x=\"946.5\" y=\"-616.8\" font-family=\"Helvetica,sans-Serif\" font-size=\"14.00\" fill=\"#000000\">value = [4, 5, 0]</text>\n</g>\n<!-- 32&#45;&gt;34 -->\n<g id=\"edge34\" class=\"edge\">\n<title>32&#45;&gt;34</title>\n<path fill=\"none\" stroke=\"#000000\" d=\"M848.3059,-712.9465C861.6666,-703.4293 876.3107,-692.9978 890.1174,-683.163\"/>\n<polygon fill=\"#000000\" stroke=\"#000000\" points=\"892.4725,-685.7826 898.5867,-677.13 888.4112,-680.0811 892.4725,-685.7826\"/>\n</g>\n<!-- 35 -->\n<g id=\"node36\" class=\"node\">\n<title>35</title>\n<path fill=\"#e58139\" stroke=\"#000000\" d=\"M879,-565.5C879,-565.5 788,-565.5 788,-565.5 782,-565.5 776,-559.5 776,-553.5 776,-553.5 776,-524.5 776,-524.5 776,-518.5 782,-512.5 788,-512.5 788,-512.5 879,-512.5 879,-512.5 885,-512.5 891,-518.5 891,-524.5 891,-524.5 891,-553.5 891,-553.5 891,-559.5 885,-565.5 879,-565.5\"/>\n<text text-anchor=\"middle\" x=\"833.5\" y=\"-550.3\" font-family=\"Helvetica,sans-Serif\" font-size=\"14.00\" fill=\"#000000\">gini = 0.0</text>\n<text text-anchor=\"middle\" x=\"833.5\" y=\"-535.3\" font-family=\"Helvetica,sans-Serif\" font-size=\"14.00\" fill=\"#000000\">samples = 1</text>\n<text text-anchor=\"middle\" x=\"833.5\" y=\"-520.3\" font-family=\"Helvetica,sans-Serif\" font-size=\"14.00\" fill=\"#000000\">value = [1, 0, 0]</text>\n</g>\n<!-- 34&#45;&gt;35 -->\n<g id=\"edge35\" class=\"edge\">\n<title>34&#45;&gt;35</title>\n<path fill=\"none\" stroke=\"#000000\" d=\"M909.4996,-608.9465C896.8134,-597.2707 882.6322,-584.219 869.987,-572.5809\"/>\n<polygon fill=\"#000000\" stroke=\"#000000\" points=\"872.0673,-569.7389 862.3391,-565.5422 867.3269,-574.8895 872.0673,-569.7389\"/>\n</g>\n<!-- 36 -->\n<g id=\"node37\" class=\"node\">\n<title>36</title>\n<path fill=\"#b0f5cd\" stroke=\"#000000\" d=\"M1033.5,-573C1033.5,-573 921.5,-573 921.5,-573 915.5,-573 909.5,-567 909.5,-561 909.5,-561 909.5,-517 909.5,-517 909.5,-511 915.5,-505 921.5,-505 921.5,-505 1033.5,-505 1033.5,-505 1039.5,-505 1045.5,-511 1045.5,-517 1045.5,-517 1045.5,-561 1045.5,-561 1045.5,-567 1039.5,-573 1033.5,-573\"/>\n<text text-anchor=\"middle\" x=\"977.5\" y=\"-557.8\" font-family=\"Helvetica,sans-Serif\" font-size=\"14.00\" fill=\"#000000\">ketinggian &lt;= 5.81</text>\n<text text-anchor=\"middle\" x=\"977.5\" y=\"-542.8\" font-family=\"Helvetica,sans-Serif\" font-size=\"14.00\" fill=\"#000000\">gini = 0.469</text>\n<text text-anchor=\"middle\" x=\"977.5\" y=\"-527.8\" font-family=\"Helvetica,sans-Serif\" font-size=\"14.00\" fill=\"#000000\">samples = 8</text>\n<text text-anchor=\"middle\" x=\"977.5\" y=\"-512.8\" font-family=\"Helvetica,sans-Serif\" font-size=\"14.00\" fill=\"#000000\">value = [3, 5, 0]</text>\n</g>\n<!-- 34&#45;&gt;36 -->\n<g id=\"edge36\" class=\"edge\">\n<title>34&#45;&gt;36</title>\n<path fill=\"none\" stroke=\"#000000\" d=\"M956.6506,-608.9465C959.1395,-600.5965 961.8382,-591.5427 964.4426,-582.8056\"/>\n<polygon fill=\"#000000\" stroke=\"#000000\" points=\"967.8242,-583.7131 967.3266,-573.13 961.1158,-581.7135 967.8242,-583.7131\"/>\n</g>\n<!-- 37 -->\n<g id=\"node38\" class=\"node\">\n<title>37</title>\n<path fill=\"#39e581\" stroke=\"#000000\" d=\"M890,-461.5C890,-461.5 799,-461.5 799,-461.5 793,-461.5 787,-455.5 787,-449.5 787,-449.5 787,-420.5 787,-420.5 787,-414.5 793,-408.5 799,-408.5 799,-408.5 890,-408.5 890,-408.5 896,-408.5 902,-414.5 902,-420.5 902,-420.5 902,-449.5 902,-449.5 902,-455.5 896,-461.5 890,-461.5\"/>\n<text text-anchor=\"middle\" x=\"844.5\" y=\"-446.3\" font-family=\"Helvetica,sans-Serif\" font-size=\"14.00\" fill=\"#000000\">gini = 0.0</text>\n<text text-anchor=\"middle\" x=\"844.5\" y=\"-431.3\" font-family=\"Helvetica,sans-Serif\" font-size=\"14.00\" fill=\"#000000\">samples = 2</text>\n<text text-anchor=\"middle\" x=\"844.5\" y=\"-416.3\" font-family=\"Helvetica,sans-Serif\" font-size=\"14.00\" fill=\"#000000\">value = [0, 2, 0]</text>\n</g>\n<!-- 36&#45;&gt;37 -->\n<g id=\"edge37\" class=\"edge\">\n<title>36&#45;&gt;37</title>\n<path fill=\"none\" stroke=\"#000000\" d=\"M933.9508,-504.9465C918.7375,-493.0504 901.6977,-479.726 886.6043,-467.9237\"/>\n<polygon fill=\"#000000\" stroke=\"#000000\" points=\"888.4769,-464.9449 878.4433,-461.5422 884.1649,-470.4592 888.4769,-464.9449\"/>\n</g>\n<!-- 38 -->\n<g id=\"node39\" class=\"node\">\n<title>38</title>\n<path fill=\"#ffffff\" stroke=\"#000000\" d=\"M1052.5,-469C1052.5,-469 932.5,-469 932.5,-469 926.5,-469 920.5,-463 920.5,-457 920.5,-457 920.5,-413 920.5,-413 920.5,-407 926.5,-401 932.5,-401 932.5,-401 1052.5,-401 1052.5,-401 1058.5,-401 1064.5,-407 1064.5,-413 1064.5,-413 1064.5,-457 1064.5,-457 1064.5,-463 1058.5,-469 1052.5,-469\"/>\n<text text-anchor=\"middle\" x=\"992.5\" y=\"-453.8\" font-family=\"Helvetica,sans-Serif\" font-size=\"14.00\" fill=\"#000000\">ketinggian &lt;= 5.845</text>\n<text text-anchor=\"middle\" x=\"992.5\" y=\"-438.8\" font-family=\"Helvetica,sans-Serif\" font-size=\"14.00\" fill=\"#000000\">gini = 0.5</text>\n<text text-anchor=\"middle\" x=\"992.5\" y=\"-423.8\" font-family=\"Helvetica,sans-Serif\" font-size=\"14.00\" fill=\"#000000\">samples = 6</text>\n<text text-anchor=\"middle\" x=\"992.5\" y=\"-408.8\" font-family=\"Helvetica,sans-Serif\" font-size=\"14.00\" fill=\"#000000\">value = [3, 3, 0]</text>\n</g>\n<!-- 36&#45;&gt;38 -->\n<g id=\"edge38\" class=\"edge\">\n<title>36&#45;&gt;38</title>\n<path fill=\"none\" stroke=\"#000000\" d=\"M982.4116,-504.9465C983.6029,-496.6863 984.8937,-487.7374 986.1412,-479.0875\"/>\n<polygon fill=\"#000000\" stroke=\"#000000\" points=\"989.6139,-479.5272 987.5774,-469.13 982.6856,-478.5279 989.6139,-479.5272\"/>\n</g>\n<!-- 39 -->\n<g id=\"node40\" class=\"node\">\n<title>39</title>\n<path fill=\"#e58139\" stroke=\"#000000\" d=\"M907,-357.5C907,-357.5 816,-357.5 816,-357.5 810,-357.5 804,-351.5 804,-345.5 804,-345.5 804,-316.5 804,-316.5 804,-310.5 810,-304.5 816,-304.5 816,-304.5 907,-304.5 907,-304.5 913,-304.5 919,-310.5 919,-316.5 919,-316.5 919,-345.5 919,-345.5 919,-351.5 913,-357.5 907,-357.5\"/>\n<text text-anchor=\"middle\" x=\"861.5\" y=\"-342.3\" font-family=\"Helvetica,sans-Serif\" font-size=\"14.00\" fill=\"#000000\">gini = 0.0</text>\n<text text-anchor=\"middle\" x=\"861.5\" y=\"-327.3\" font-family=\"Helvetica,sans-Serif\" font-size=\"14.00\" fill=\"#000000\">samples = 1</text>\n<text text-anchor=\"middle\" x=\"861.5\" y=\"-312.3\" font-family=\"Helvetica,sans-Serif\" font-size=\"14.00\" fill=\"#000000\">value = [1, 0, 0]</text>\n</g>\n<!-- 38&#45;&gt;39 -->\n<g id=\"edge39\" class=\"edge\">\n<title>38&#45;&gt;39</title>\n<path fill=\"none\" stroke=\"#000000\" d=\"M949.6057,-400.9465C934.6212,-389.0504 917.8376,-375.726 902.9712,-363.9237\"/>\n<polygon fill=\"#000000\" stroke=\"#000000\" points=\"904.9411,-361.0187 894.9329,-357.5422 900.5887,-366.5011 904.9411,-361.0187\"/>\n</g>\n<!-- 40 -->\n<g id=\"node41\" class=\"node\">\n<title>40</title>\n<path fill=\"#bdf6d5\" stroke=\"#000000\" d=\"M1061.5,-365C1061.5,-365 949.5,-365 949.5,-365 943.5,-365 937.5,-359 937.5,-353 937.5,-353 937.5,-309 937.5,-309 937.5,-303 943.5,-297 949.5,-297 949.5,-297 1061.5,-297 1061.5,-297 1067.5,-297 1073.5,-303 1073.5,-309 1073.5,-309 1073.5,-353 1073.5,-353 1073.5,-359 1067.5,-365 1061.5,-365\"/>\n<text text-anchor=\"middle\" x=\"1005.5\" y=\"-349.8\" font-family=\"Helvetica,sans-Serif\" font-size=\"14.00\" fill=\"#000000\">ketinggian &lt;= 5.98</text>\n<text text-anchor=\"middle\" x=\"1005.5\" y=\"-334.8\" font-family=\"Helvetica,sans-Serif\" font-size=\"14.00\" fill=\"#000000\">gini = 0.48</text>\n<text text-anchor=\"middle\" x=\"1005.5\" y=\"-319.8\" font-family=\"Helvetica,sans-Serif\" font-size=\"14.00\" fill=\"#000000\">samples = 5</text>\n<text text-anchor=\"middle\" x=\"1005.5\" y=\"-304.8\" font-family=\"Helvetica,sans-Serif\" font-size=\"14.00\" fill=\"#000000\">value = [2, 3, 0]</text>\n</g>\n<!-- 38&#45;&gt;40 -->\n<g id=\"edge40\" class=\"edge\">\n<title>38&#45;&gt;40</title>\n<path fill=\"none\" stroke=\"#000000\" d=\"M996.7567,-400.9465C997.7892,-392.6863 998.9078,-383.7374 999.9891,-375.0875\"/>\n<polygon fill=\"#000000\" stroke=\"#000000\" points=\"1003.4663,-375.4869 1001.2338,-365.13 996.5203,-374.6186 1003.4663,-375.4869\"/>\n</g>\n<!-- 41 -->\n<g id=\"node42\" class=\"node\">\n<title>41</title>\n<path fill=\"#ffffff\" stroke=\"#000000\" d=\"M943.5,-261C943.5,-261 823.5,-261 823.5,-261 817.5,-261 811.5,-255 811.5,-249 811.5,-249 811.5,-205 811.5,-205 811.5,-199 817.5,-193 823.5,-193 823.5,-193 943.5,-193 943.5,-193 949.5,-193 955.5,-199 955.5,-205 955.5,-205 955.5,-249 955.5,-249 955.5,-255 949.5,-261 943.5,-261\"/>\n<text text-anchor=\"middle\" x=\"883.5\" y=\"-245.8\" font-family=\"Helvetica,sans-Serif\" font-size=\"14.00\" fill=\"#000000\">ketinggian &lt;= 5.955</text>\n<text text-anchor=\"middle\" x=\"883.5\" y=\"-230.8\" font-family=\"Helvetica,sans-Serif\" font-size=\"14.00\" fill=\"#000000\">gini = 0.5</text>\n<text text-anchor=\"middle\" x=\"883.5\" y=\"-215.8\" font-family=\"Helvetica,sans-Serif\" font-size=\"14.00\" fill=\"#000000\">samples = 4</text>\n<text text-anchor=\"middle\" x=\"883.5\" y=\"-200.8\" font-family=\"Helvetica,sans-Serif\" font-size=\"14.00\" fill=\"#000000\">value = [2, 2, 0]</text>\n</g>\n<!-- 40&#45;&gt;41 -->\n<g id=\"edge41\" class=\"edge\">\n<title>40&#45;&gt;41</title>\n<path fill=\"none\" stroke=\"#000000\" d=\"M965.5526,-296.9465C954.5988,-287.6088 942.6127,-277.3911 931.268,-267.7203\"/>\n<polygon fill=\"#000000\" stroke=\"#000000\" points=\"933.4179,-264.9538 923.5371,-261.13 928.8767,-270.2809 933.4179,-264.9538\"/>\n</g>\n<!-- 46 -->\n<g id=\"node47\" class=\"node\">\n<title>46</title>\n<path fill=\"#39e581\" stroke=\"#000000\" d=\"M1077,-253.5C1077,-253.5 986,-253.5 986,-253.5 980,-253.5 974,-247.5 974,-241.5 974,-241.5 974,-212.5 974,-212.5 974,-206.5 980,-200.5 986,-200.5 986,-200.5 1077,-200.5 1077,-200.5 1083,-200.5 1089,-206.5 1089,-212.5 1089,-212.5 1089,-241.5 1089,-241.5 1089,-247.5 1083,-253.5 1077,-253.5\"/>\n<text text-anchor=\"middle\" x=\"1031.5\" y=\"-238.3\" font-family=\"Helvetica,sans-Serif\" font-size=\"14.00\" fill=\"#000000\">gini = 0.0</text>\n<text text-anchor=\"middle\" x=\"1031.5\" y=\"-223.3\" font-family=\"Helvetica,sans-Serif\" font-size=\"14.00\" fill=\"#000000\">samples = 1</text>\n<text text-anchor=\"middle\" x=\"1031.5\" y=\"-208.3\" font-family=\"Helvetica,sans-Serif\" font-size=\"14.00\" fill=\"#000000\">value = [0, 1, 0]</text>\n</g>\n<!-- 40&#45;&gt;46 -->\n<g id=\"edge46\" class=\"edge\">\n<title>40&#45;&gt;46</title>\n<path fill=\"none\" stroke=\"#000000\" d=\"M1014.0134,-296.9465C1016.6845,-286.2621 1019.6436,-274.4254 1022.3564,-263.5742\"/>\n<polygon fill=\"#000000\" stroke=\"#000000\" points=\"1025.8345,-264.0925 1024.8645,-253.5422 1019.0435,-262.3947 1025.8345,-264.0925\"/>\n</g>\n<!-- 42 -->\n<g id=\"node43\" class=\"node\">\n<title>42</title>\n<path fill=\"#9cf2c0\" stroke=\"#000000\" d=\"M811.5,-157C811.5,-157 707.5,-157 707.5,-157 701.5,-157 695.5,-151 695.5,-145 695.5,-145 695.5,-101 695.5,-101 695.5,-95 701.5,-89 707.5,-89 707.5,-89 811.5,-89 811.5,-89 817.5,-89 823.5,-95 823.5,-101 823.5,-101 823.5,-145 823.5,-145 823.5,-151 817.5,-157 811.5,-157\"/>\n<text text-anchor=\"middle\" x=\"759.5\" y=\"-141.8\" font-family=\"Helvetica,sans-Serif\" font-size=\"14.00\" fill=\"#000000\">ketinggian &lt;= 5.9</text>\n<text text-anchor=\"middle\" x=\"759.5\" y=\"-126.8\" font-family=\"Helvetica,sans-Serif\" font-size=\"14.00\" fill=\"#000000\">gini = 0.444</text>\n<text text-anchor=\"middle\" x=\"759.5\" y=\"-111.8\" font-family=\"Helvetica,sans-Serif\" font-size=\"14.00\" fill=\"#000000\">samples = 3</text>\n<text text-anchor=\"middle\" x=\"759.5\" y=\"-96.8\" font-family=\"Helvetica,sans-Serif\" font-size=\"14.00\" fill=\"#000000\">value = [1, 2, 0]</text>\n</g>\n<!-- 41&#45;&gt;42 -->\n<g id=\"edge42\" class=\"edge\">\n<title>41&#45;&gt;42</title>\n<path fill=\"none\" stroke=\"#000000\" d=\"M842.8978,-192.9465C831.7644,-183.6088 819.5817,-173.3911 808.0511,-163.7203\"/>\n<polygon fill=\"#000000\" stroke=\"#000000\" points=\"810.1046,-160.8745 800.1935,-157.13 805.6062,-166.2378 810.1046,-160.8745\"/>\n</g>\n<!-- 45 -->\n<g id=\"node46\" class=\"node\">\n<title>45</title>\n<path fill=\"#e58139\" stroke=\"#000000\" d=\"M945,-149.5C945,-149.5 854,-149.5 854,-149.5 848,-149.5 842,-143.5 842,-137.5 842,-137.5 842,-108.5 842,-108.5 842,-102.5 848,-96.5 854,-96.5 854,-96.5 945,-96.5 945,-96.5 951,-96.5 957,-102.5 957,-108.5 957,-108.5 957,-137.5 957,-137.5 957,-143.5 951,-149.5 945,-149.5\"/>\n<text text-anchor=\"middle\" x=\"899.5\" y=\"-134.3\" font-family=\"Helvetica,sans-Serif\" font-size=\"14.00\" fill=\"#000000\">gini = 0.0</text>\n<text text-anchor=\"middle\" x=\"899.5\" y=\"-119.3\" font-family=\"Helvetica,sans-Serif\" font-size=\"14.00\" fill=\"#000000\">samples = 1</text>\n<text text-anchor=\"middle\" x=\"899.5\" y=\"-104.3\" font-family=\"Helvetica,sans-Serif\" font-size=\"14.00\" fill=\"#000000\">value = [1, 0, 0]</text>\n</g>\n<!-- 41&#45;&gt;45 -->\n<g id=\"edge45\" class=\"edge\">\n<title>41&#45;&gt;45</title>\n<path fill=\"none\" stroke=\"#000000\" d=\"M888.739,-192.9465C890.3828,-182.2621 892.2038,-170.4254 893.8732,-159.5742\"/>\n<polygon fill=\"#000000\" stroke=\"#000000\" points=\"897.3552,-159.9581 895.4166,-149.5422 890.4366,-158.8937 897.3552,-159.9581\"/>\n</g>\n<!-- 43 -->\n<g id=\"node44\" class=\"node\">\n<title>43</title>\n<path fill=\"#ffffff\" stroke=\"#000000\" d=\"M730,-53C730,-53 639,-53 639,-53 633,-53 627,-47 627,-41 627,-41 627,-12 627,-12 627,-6 633,0 639,0 639,0 730,0 730,0 736,0 742,-6 742,-12 742,-12 742,-41 742,-41 742,-47 736,-53 730,-53\"/>\n<text text-anchor=\"middle\" x=\"684.5\" y=\"-37.8\" font-family=\"Helvetica,sans-Serif\" font-size=\"14.00\" fill=\"#000000\">gini = 0.5</text>\n<text text-anchor=\"middle\" x=\"684.5\" y=\"-22.8\" font-family=\"Helvetica,sans-Serif\" font-size=\"14.00\" fill=\"#000000\">samples = 2</text>\n<text text-anchor=\"middle\" x=\"684.5\" y=\"-7.8\" font-family=\"Helvetica,sans-Serif\" font-size=\"14.00\" fill=\"#000000\">value = [1, 1, 0]</text>\n</g>\n<!-- 42&#45;&gt;43 -->\n<g id=\"edge43\" class=\"edge\">\n<title>42&#45;&gt;43</title>\n<path fill=\"none\" stroke=\"#000000\" d=\"M733.0578,-88.9777C726.0833,-80.0039 718.5484,-70.3089 711.5427,-61.295\"/>\n<polygon fill=\"#000000\" stroke=\"#000000\" points=\"714.1891,-58.9964 705.289,-53.2485 708.6621,-63.292 714.1891,-58.9964\"/>\n</g>\n<!-- 44 -->\n<g id=\"node45\" class=\"node\">\n<title>44</title>\n<path fill=\"#39e581\" stroke=\"#000000\" d=\"M863,-53C863,-53 772,-53 772,-53 766,-53 760,-47 760,-41 760,-41 760,-12 760,-12 760,-6 766,0 772,0 772,0 863,0 863,0 869,0 875,-6 875,-12 875,-12 875,-41 875,-41 875,-47 869,-53 863,-53\"/>\n<text text-anchor=\"middle\" x=\"817.5\" y=\"-37.8\" font-family=\"Helvetica,sans-Serif\" font-size=\"14.00\" fill=\"#000000\">gini = 0.0</text>\n<text text-anchor=\"middle\" x=\"817.5\" y=\"-22.8\" font-family=\"Helvetica,sans-Serif\" font-size=\"14.00\" fill=\"#000000\">samples = 1</text>\n<text text-anchor=\"middle\" x=\"817.5\" y=\"-7.8\" font-family=\"Helvetica,sans-Serif\" font-size=\"14.00\" fill=\"#000000\">value = [0, 1, 0]</text>\n</g>\n<!-- 42&#45;&gt;44 -->\n<g id=\"edge44\" class=\"edge\">\n<title>42&#45;&gt;44</title>\n<path fill=\"none\" stroke=\"#000000\" d=\"M779.9486,-88.9777C785.2322,-80.187 790.9316,-70.7044 796.2548,-61.8477\"/>\n<polygon fill=\"#000000\" stroke=\"#000000\" points=\"799.2715,-63.6225 801.4232,-53.2485 793.2718,-60.0165 799.2715,-63.6225\"/>\n</g>\n<!-- 49 -->\n<g id=\"node50\" class=\"node\">\n<title>49</title>\n<path fill=\"#e58139\" stroke=\"#000000\" d=\"M782,-1085.5C782,-1085.5 683,-1085.5 683,-1085.5 677,-1085.5 671,-1079.5 671,-1073.5 671,-1073.5 671,-1044.5 671,-1044.5 671,-1038.5 677,-1032.5 683,-1032.5 683,-1032.5 782,-1032.5 782,-1032.5 788,-1032.5 794,-1038.5 794,-1044.5 794,-1044.5 794,-1073.5 794,-1073.5 794,-1079.5 788,-1085.5 782,-1085.5\"/>\n<text text-anchor=\"middle\" x=\"732.5\" y=\"-1070.3\" font-family=\"Helvetica,sans-Serif\" font-size=\"14.00\" fill=\"#000000\">gini = 0.0</text>\n<text text-anchor=\"middle\" x=\"732.5\" y=\"-1055.3\" font-family=\"Helvetica,sans-Serif\" font-size=\"14.00\" fill=\"#000000\">samples = 46</text>\n<text text-anchor=\"middle\" x=\"732.5\" y=\"-1040.3\" font-family=\"Helvetica,sans-Serif\" font-size=\"14.00\" fill=\"#000000\">value = [46, 0, 0]</text>\n</g>\n<!-- 48&#45;&gt;49 -->\n<g id=\"edge49\" class=\"edge\">\n<title>48&#45;&gt;49</title>\n<path fill=\"none\" stroke=\"#000000\" d=\"M733.8451,-1128.9465C733.6397,-1118.2621 733.412,-1106.4254 733.2034,-1095.5742\"/>\n<polygon fill=\"#000000\" stroke=\"#000000\" points=\"736.7021,-1095.473 733.0104,-1085.5422 729.7034,-1095.6076 736.7021,-1095.473\"/>\n</g>\n<!-- 50 -->\n<g id=\"node51\" class=\"node\">\n<title>50</title>\n<path fill=\"#8139e5\" stroke=\"#000000\" d=\"M915,-1085.5C915,-1085.5 824,-1085.5 824,-1085.5 818,-1085.5 812,-1079.5 812,-1073.5 812,-1073.5 812,-1044.5 812,-1044.5 812,-1038.5 818,-1032.5 824,-1032.5 824,-1032.5 915,-1032.5 915,-1032.5 921,-1032.5 927,-1038.5 927,-1044.5 927,-1044.5 927,-1073.5 927,-1073.5 927,-1079.5 921,-1085.5 915,-1085.5\"/>\n<text text-anchor=\"middle\" x=\"869.5\" y=\"-1070.3\" font-family=\"Helvetica,sans-Serif\" font-size=\"14.00\" fill=\"#000000\">gini = 0.0</text>\n<text text-anchor=\"middle\" x=\"869.5\" y=\"-1055.3\" font-family=\"Helvetica,sans-Serif\" font-size=\"14.00\" fill=\"#000000\">samples = 9</text>\n<text text-anchor=\"middle\" x=\"869.5\" y=\"-1040.3\" font-family=\"Helvetica,sans-Serif\" font-size=\"14.00\" fill=\"#000000\">value = [0, 0, 9]</text>\n</g>\n<!-- 48&#45;&gt;50 -->\n<g id=\"edge50\" class=\"edge\">\n<title>48&#45;&gt;50</title>\n<path fill=\"none\" stroke=\"#000000\" d=\"M778.704,-1128.9465C794.1461,-1117.0504 811.4422,-1103.726 826.7625,-1091.9237\"/>\n<polygon fill=\"#000000\" stroke=\"#000000\" points=\"829.2603,-1094.4176 835.0462,-1085.5422 824.9883,-1088.8723 829.2603,-1094.4176\"/>\n</g>\n</g>\n</svg>\n",
            "text/plain": [
              "<graphviz.files.Source at 0x7f80c1d731d0>"
            ]
          },
          "execution_count": 81,
          "metadata": {},
          "output_type": "execute_result"
        }
      ],
      "source": [
        "# Visualize the tree by graphiz\n",
        "import graphviz\n",
        "from sklearn import tree\n",
        "feature_names = ['ketinggian','intensitas']\n",
        "dot_data = tree.export_graphviz(dtc_clf, out_file=None, filled=True, rounded = True, feature_names=feature_names)\n",
        "graph = graphviz.Source(dot_data)\n",
        "graph"
      ]
    },
    {
      "cell_type": "code",
      "execution_count": 82,
      "metadata": {
        "colab": {
          "base_uri": "https://localhost:8080/"
        },
        "id": "NK7CbFgjCjyT",
        "outputId": "e496db23-4bb1-46a0-92a4-d79b59e91810"
      },
      "outputs": [
        {
          "name": "stdout",
          "output_type": "stream",
          "text": [
            "[0]\n"
          ]
        }
      ],
      "source": [
        "x_new=[[5, 10]]\n",
        "pred = dtc_clf.predict(x_new)\n",
        "print (pred)"
      ]
    },
    {
      "cell_type": "code",
      "execution_count": 83,
      "metadata": {
        "id": "uDNn0GVFbfyy"
      },
      "outputs": [],
      "source": [
        "import pickle"
      ]
    },
    {
      "cell_type": "code",
      "execution_count": 84,
      "metadata": {
        "id": "lPpj5-GibgAV"
      },
      "outputs": [],
      "source": [
        "pickle.dump(dtc_clf, open('model.pkl', 'wb'))"
      ]
    },
    {
      "cell_type": "code",
      "execution_count": 85,
      "metadata": {
        "colab": {
          "base_uri": "https://localhost:8080/"
        },
        "id": "JkiPFLsNbgID",
        "outputId": "aa3c7457-05dd-423a-9923-6801da49ba8b"
      },
      "outputs": [
        {
          "name": "stdout",
          "output_type": "stream",
          "text": [
            "DecisionTreeClassifier()\n"
          ]
        }
      ],
      "source": [
        "model = pickle.load(open('model.pkl', 'rb'))\n",
        "print(model)"
      ]
    }
  ],
  "metadata": {
    "colab": {
      "collapsed_sections": [],
      "name": "modeldecisiontree.ipynb",
      "provenance": []
    },
    "kernelspec": {
      "display_name": "Python 3.9.6 64-bit",
      "language": "python",
      "name": "python3"
    },
    "language_info": {
      "name": "python",
      "version": "3.9.6"
    },
    "vscode": {
      "interpreter": {
        "hash": "11938c6bc6919ae2720b4d5011047913343b08a43b18698fd82dedb0d4417594"
      }
    }
  },
  "nbformat": 4,
  "nbformat_minor": 0
}
